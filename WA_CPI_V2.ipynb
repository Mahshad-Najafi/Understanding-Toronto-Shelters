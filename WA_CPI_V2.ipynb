{
  "nbformat": 4,
  "nbformat_minor": 0,
  "metadata": {
    "kernelspec": {
      "display_name": "Python 3",
      "language": "python",
      "name": "python3"
    },
    "language_info": {
      "codemirror_mode": {
        "name": "ipython",
        "version": 3
      },
      "file_extension": ".py",
      "mimetype": "text/x-python",
      "name": "python",
      "nbconvert_exporter": "python",
      "pygments_lexer": "ipython3",
      "version": "3.7.4"
    },
    "colab": {
      "name": "WA_CPI_V2.ipynb",
      "provenance": [],
      "include_colab_link": true
    }
  },
  "cells": [
    {
      "cell_type": "markdown",
      "metadata": {
        "id": "view-in-github",
        "colab_type": "text"
      },
      "source": [
        "<a href=\"https://colab.research.google.com/github/VernonNaidoo-Toronto/Understanding-Toronto-Shelters/blob/master/WA_CPI_V2.ipynb\" target=\"_parent\"><img src=\"https://colab.research.google.com/assets/colab-badge.svg\" alt=\"Open In Colab\"/></a>"
      ]
    },
    {
      "cell_type": "code",
      "metadata": {
        "id": "PydsnV9NFSRX",
        "colab_type": "code",
        "colab": {}
      },
      "source": [
        "import numpy as np\n",
        "import pandas as pd\n",
        "from datetime import datetime\n",
        "from datetime import timedelta\n",
        "import matplotlib.pyplot as plt \n",
        "import seaborn as sns\n",
        "from sklearn.model_selection import train_test_split\n",
        "from sklearn.neighbors import KNeighborsClassifier\n",
        "from sklearn.preprocessing import LabelEncoder\n",
        "from sklearn.linear_model import LinearRegression\n",
        "from sklearn.metrics import mean_squared_error, r2_score\n",
        "import sklearn\n",
        "import scipy, scipy.stats\n",
        "import statsmodels.formula.api as sm\n",
        "from statsmodels.graphics.regressionplots import plot_regress_exog, plot_fit, plot_leverage_resid2, influence_plot\n",
        "import warnings\n",
        "warnings.filterwarnings('ignore')\n",
        "%config InlineBackend.figure_format = 'retina'"
      ],
      "execution_count": 6,
      "outputs": []
    },
    {
      "cell_type": "code",
      "metadata": {
        "id": "OmIJm7PeFSRc",
        "colab_type": "code",
        "colab": {}
      },
      "source": [
        "# Take a random sample of x records from DataFrame y:\n",
        "def sample(df,number_of_records):\n",
        "  display(df.loc[np.random.choice(len(df),number_of_records),:])\n",
        "  #print('DataFrame has length',len(df), 'and shape',df.shape,'.')\n",
        "  print(f'Random sample of {number_of_records} rows from DataFrame with {df.shape[0]} records and {df.shape[1]} columns.')"
      ],
      "execution_count": 7,
      "outputs": []
    },
    {
      "cell_type": "code",
      "metadata": {
        "id": "Xh4Z8Qd-FSRg",
        "colab_type": "code",
        "colab": {
          "base_uri": "https://localhost:8080/",
          "height": 68
        },
        "outputId": "6fe1bd06-00bc-46dd-96ad-e00d63e496b3"
      },
      "source": [
        "path1 = 'https://raw.githubusercontent.com/VernonNaidoo-Toronto/Understanding-Toronto-Shelters/master/Shelter%20Data/'\n",
        "\n",
        "dso2017 = pd.read_csv(path1 + 'daily-shelter-occupancy-2017-csv.csv', \n",
        "                    parse_dates=['OCCUPANCY_DATE']); dso2017['source_file']=2017\n",
        "dso2018 = pd.read_csv(path1 + 'daily-shelter-occupancy-2018-csv.csv',\n",
        "                    parse_dates=['OCCUPANCY_DATE']); dso2018['source_file']=2018\n",
        "dso2019 = pd.read_csv(path1 + 'daily-shelter-occupancy-2019-csv.csv',\n",
        "                    parse_dates=['OCCUPANCY_DATE']); dso2019['source_file']=2019\n",
        "\n",
        "# Get summary of records loaded\n",
        "for year, df in [[2017,dso2017], [2018,dso2018], [2019,dso2019]]:\n",
        "  print(f'Loaded {len(df)} records from the {year} file.')\n",
        "\n",
        "cpi_data = pd.read_csv(path1 + 'CPI_MONTHLY.csv', header=20, names=['date', 'CPI', 'CPI_adj', 'Static', 'CPI_TRIM', \n",
        "                                                      'CPI_MEDIAN', 'CPI_COMMON', 'ATOM', 'CPIXFET', 'CPIW'])"
      ],
      "execution_count": 8,
      "outputs": [
        {
          "output_type": "stream",
          "text": [
            "Loaded 38700 records from the 2017 file.\n",
            "Loaded 37770 records from the 2018 file.\n",
            "Loaded 39446 records from the 2019 file.\n"
          ],
          "name": "stdout"
        }
      ]
    },
    {
      "cell_type": "code",
      "metadata": {
        "id": "k_5GWTFZFSRj",
        "colab_type": "code",
        "colab": {
          "base_uri": "https://localhost:8080/",
          "height": 408
        },
        "outputId": "5663ef90-94e9-49ef-976b-46a4c46ab7da"
      },
      "source": [
        "# Concatenate DataFrames\n",
        "daily_shelter_occupancy = pd.concat([dso2017, dso2018, dso2019], ignore_index=True) \n",
        "\n",
        "# Get list of column names; change to Python standard lowercase:\n",
        "cols = [column_name.lower() for column_name in daily_shelter_occupancy.columns] \n",
        "daily_shelter_occupancy.columns = cols\n",
        "\n",
        "# Move source_file column to front of DataFrame\n",
        "cols = cols[-1:] + cols[0:-1]\n",
        "daily_shelter_occupancy = daily_shelter_occupancy[cols]\n",
        "\n",
        "# Show sample records\n",
        "sample(daily_shelter_occupancy,5)"
      ],
      "execution_count": 9,
      "outputs": [
        {
          "output_type": "display_data",
          "data": {
            "text/html": [
              "<div>\n",
              "<style scoped>\n",
              "    .dataframe tbody tr th:only-of-type {\n",
              "        vertical-align: middle;\n",
              "    }\n",
              "\n",
              "    .dataframe tbody tr th {\n",
              "        vertical-align: top;\n",
              "    }\n",
              "\n",
              "    .dataframe thead th {\n",
              "        text-align: right;\n",
              "    }\n",
              "</style>\n",
              "<table border=\"1\" class=\"dataframe\">\n",
              "  <thead>\n",
              "    <tr style=\"text-align: right;\">\n",
              "      <th></th>\n",
              "      <th>source_file</th>\n",
              "      <th>_id</th>\n",
              "      <th>occupancy_date</th>\n",
              "      <th>organization_name</th>\n",
              "      <th>shelter_name</th>\n",
              "      <th>shelter_address</th>\n",
              "      <th>shelter_city</th>\n",
              "      <th>shelter_province</th>\n",
              "      <th>shelter_postal_code</th>\n",
              "      <th>facility_name</th>\n",
              "      <th>program_name</th>\n",
              "      <th>sector</th>\n",
              "      <th>occupancy</th>\n",
              "      <th>capacity</th>\n",
              "    </tr>\n",
              "  </thead>\n",
              "  <tbody>\n",
              "    <tr>\n",
              "      <th>36054</th>\n",
              "      <td>2017</td>\n",
              "      <td>36055</td>\n",
              "      <td>2017-06-12</td>\n",
              "      <td>Toronto Community Hostel</td>\n",
              "      <td>Toronto Community Hostel</td>\n",
              "      <td>191 Spadina Road</td>\n",
              "      <td>Toronto</td>\n",
              "      <td>ON</td>\n",
              "      <td>M5R 2T9</td>\n",
              "      <td>TCH 191 Spadina Rd(Singles)</td>\n",
              "      <td>TCH-Singles</td>\n",
              "      <td>Co-ed</td>\n",
              "      <td>12</td>\n",
              "      <td>13.0</td>\n",
              "    </tr>\n",
              "    <tr>\n",
              "      <th>48224</th>\n",
              "      <td>2018</td>\n",
              "      <td>9525</td>\n",
              "      <td>2018-04-01</td>\n",
              "      <td>Good Shepherd Ministries</td>\n",
              "      <td>Good Shepherd Centre</td>\n",
              "      <td>412 Queen Street East</td>\n",
              "      <td>Toronto</td>\n",
              "      <td>ON</td>\n",
              "      <td>M5A 1T3</td>\n",
              "      <td>Barrett House</td>\n",
              "      <td>Barrett House</td>\n",
              "      <td>Men</td>\n",
              "      <td>5</td>\n",
              "      <td>5.0</td>\n",
              "    </tr>\n",
              "    <tr>\n",
              "      <th>66512</th>\n",
              "      <td>2018</td>\n",
              "      <td>27813</td>\n",
              "      <td>2018-09-25</td>\n",
              "      <td>City of Toronto</td>\n",
              "      <td>Women's Residence</td>\n",
              "      <td>674 Dundas St. W</td>\n",
              "      <td>Toronto</td>\n",
              "      <td>ON</td>\n",
              "      <td>M5T 1H9</td>\n",
              "      <td>Womens' Res - 674 Dundas St. W</td>\n",
              "      <td>Women's Residence Extreme Weather Program</td>\n",
              "      <td>Women</td>\n",
              "      <td>13</td>\n",
              "      <td>13.0</td>\n",
              "    </tr>\n",
              "    <tr>\n",
              "      <th>85009</th>\n",
              "      <td>2019</td>\n",
              "      <td>8540</td>\n",
              "      <td>2019-03-21</td>\n",
              "      <td>Toronto Community Hostel</td>\n",
              "      <td>Toronto Community Hostel</td>\n",
              "      <td>191 Spadina Road</td>\n",
              "      <td>Toronto</td>\n",
              "      <td>ON</td>\n",
              "      <td>M5R 2T9</td>\n",
              "      <td>TCH 191 Spadina Rd(Singles)</td>\n",
              "      <td>TCH-Singles</td>\n",
              "      <td>Co-ed</td>\n",
              "      <td>10</td>\n",
              "      <td>13.0</td>\n",
              "    </tr>\n",
              "    <tr>\n",
              "      <th>62444</th>\n",
              "      <td>2018</td>\n",
              "      <td>23745</td>\n",
              "      <td>2018-08-16</td>\n",
              "      <td>Christie Ossington Neighbourhood Centre</td>\n",
              "      <td>Christie Ossington Men's Hostel</td>\n",
              "      <td>973 Lansdowne Avenue</td>\n",
              "      <td>Toronto</td>\n",
              "      <td>ON</td>\n",
              "      <td>M6H 3Z5</td>\n",
              "      <td>Christie Ossington Men's Hostel</td>\n",
              "      <td>Christie Ossington Men's Hostel</td>\n",
              "      <td>Men</td>\n",
              "      <td>82</td>\n",
              "      <td>82.0</td>\n",
              "    </tr>\n",
              "  </tbody>\n",
              "</table>\n",
              "</div>"
            ],
            "text/plain": [
              "       source_file    _id occupancy_date  ... sector occupancy capacity\n",
              "36054         2017  36055     2017-06-12  ...  Co-ed        12     13.0\n",
              "48224         2018   9525     2018-04-01  ...    Men         5      5.0\n",
              "66512         2018  27813     2018-09-25  ...  Women        13     13.0\n",
              "85009         2019   8540     2019-03-21  ...  Co-ed        10     13.0\n",
              "62444         2018  23745     2018-08-16  ...    Men        82     82.0\n",
              "\n",
              "[5 rows x 14 columns]"
            ]
          },
          "metadata": {
            "tags": []
          }
        },
        {
          "output_type": "stream",
          "text": [
            "Random sample of 5 rows from DataFrame with 115916 records and 14 columns.\n"
          ],
          "name": "stdout"
        }
      ]
    },
    {
      "cell_type": "code",
      "metadata": {
        "id": "rapbwWTPFSRm",
        "colab_type": "code",
        "colab": {
          "base_uri": "https://localhost:8080/",
          "height": 51
        },
        "outputId": "3a881f34-a3e8-4db1-c008-a359aa0487f0"
      },
      "source": [
        "# Identify columns with missing values:\n",
        "for col in daily_shelter_occupancy.columns:\n",
        "  null_count = daily_shelter_occupancy[col].isna().sum()\n",
        "  if null_count >0:\n",
        "    print(f'The {col} column has {null_count} rows without values.')"
      ],
      "execution_count": 10,
      "outputs": [
        {
          "output_type": "stream",
          "text": [
            "The shelter_postal_code column has 5494 rows without values.\n",
            "The capacity column has 343 rows without values.\n"
          ],
          "name": "stdout"
        }
      ]
    },
    {
      "cell_type": "code",
      "metadata": {
        "id": "Q_dyXGGPFSRn",
        "colab_type": "code",
        "colab": {
          "base_uri": "https://localhost:8080/",
          "height": 34
        },
        "outputId": "59890af7-699f-4c97-c149-dc3c45f086e5"
      },
      "source": [
        "# Drop 343 rows with null capacity\n",
        "original_row_count=daily_shelter_occupancy.shape[0]\n",
        "daily_shelter_occupancy.dropna(subset=['capacity'], inplace=True)\n",
        "dropped_row_count=original_row_count-daily_shelter_occupancy.shape[0]\n",
        "print(f'Dropped {dropped_row_count} of {original_row_count} rows, due to nulls in capacity column.')"
      ],
      "execution_count": 11,
      "outputs": [
        {
          "output_type": "stream",
          "text": [
            "Dropped 343 of 115916 rows, due to nulls in capacity column.\n"
          ],
          "name": "stdout"
        }
      ]
    },
    {
      "cell_type": "code",
      "metadata": {
        "id": "G-fspbE7FSRp",
        "colab_type": "code",
        "colab": {}
      },
      "source": [
        "# After removing nulls, change capacity column to integer\n",
        "daily_shelter_occupancy.capacity = daily_shelter_occupancy.capacity.astype(int)"
      ],
      "execution_count": 12,
      "outputs": []
    },
    {
      "cell_type": "code",
      "metadata": {
        "id": "jd8DXTaYFSRq",
        "colab_type": "code",
        "colab": {
          "base_uri": "https://localhost:8080/",
          "height": 235
        },
        "outputId": "1cd3fbcd-d181-4815-cb51-3a503734751f"
      },
      "source": [
        "daily = daily_shelter_occupancy.set_index('occupancy_date')\\\n",
        "  .resample('D')[['occupancy','capacity']].sum()\n",
        "daily['vacancy']=daily.capacity - daily.occupancy\n",
        "daily['occupancy_rate']=daily.occupancy/daily.capacity*100\n",
        "display(daily.head())"
      ],
      "execution_count": 13,
      "outputs": [
        {
          "output_type": "display_data",
          "data": {
            "text/html": [
              "<div>\n",
              "<style scoped>\n",
              "    .dataframe tbody tr th:only-of-type {\n",
              "        vertical-align: middle;\n",
              "    }\n",
              "\n",
              "    .dataframe tbody tr th {\n",
              "        vertical-align: top;\n",
              "    }\n",
              "\n",
              "    .dataframe thead th {\n",
              "        text-align: right;\n",
              "    }\n",
              "</style>\n",
              "<table border=\"1\" class=\"dataframe\">\n",
              "  <thead>\n",
              "    <tr style=\"text-align: right;\">\n",
              "      <th></th>\n",
              "      <th>occupancy</th>\n",
              "      <th>capacity</th>\n",
              "      <th>vacancy</th>\n",
              "      <th>occupancy_rate</th>\n",
              "    </tr>\n",
              "    <tr>\n",
              "      <th>occupancy_date</th>\n",
              "      <th></th>\n",
              "      <th></th>\n",
              "      <th></th>\n",
              "      <th></th>\n",
              "    </tr>\n",
              "  </thead>\n",
              "  <tbody>\n",
              "    <tr>\n",
              "      <th>2017-01-01</th>\n",
              "      <td>4295</td>\n",
              "      <td>4653</td>\n",
              "      <td>358</td>\n",
              "      <td>92.306039</td>\n",
              "    </tr>\n",
              "    <tr>\n",
              "      <th>2017-01-02</th>\n",
              "      <td>4299</td>\n",
              "      <td>4704</td>\n",
              "      <td>405</td>\n",
              "      <td>91.390306</td>\n",
              "    </tr>\n",
              "    <tr>\n",
              "      <th>2017-01-03</th>\n",
              "      <td>4386</td>\n",
              "      <td>4733</td>\n",
              "      <td>347</td>\n",
              "      <td>92.668498</td>\n",
              "    </tr>\n",
              "    <tr>\n",
              "      <th>2017-01-04</th>\n",
              "      <td>4600</td>\n",
              "      <td>4938</td>\n",
              "      <td>338</td>\n",
              "      <td>93.155124</td>\n",
              "    </tr>\n",
              "    <tr>\n",
              "      <th>2017-01-05</th>\n",
              "      <td>4729</td>\n",
              "      <td>5011</td>\n",
              "      <td>282</td>\n",
              "      <td>94.372381</td>\n",
              "    </tr>\n",
              "  </tbody>\n",
              "</table>\n",
              "</div>"
            ],
            "text/plain": [
              "                occupancy  capacity  vacancy  occupancy_rate\n",
              "occupancy_date                                              \n",
              "2017-01-01           4295      4653      358       92.306039\n",
              "2017-01-02           4299      4704      405       91.390306\n",
              "2017-01-03           4386      4733      347       92.668498\n",
              "2017-01-04           4600      4938      338       93.155124\n",
              "2017-01-05           4729      5011      282       94.372381"
            ]
          },
          "metadata": {
            "tags": []
          }
        }
      ]
    },
    {
      "cell_type": "code",
      "metadata": {
        "id": "LJ2bjT6WFSRr",
        "colab_type": "code",
        "colab": {
          "base_uri": "https://localhost:8080/",
          "height": 235
        },
        "outputId": "a4acfe27-6de6-4cb7-85bf-d54e7bbaaeac"
      },
      "source": [
        "monthly = daily.resample('M')[['occupancy','capacity','vacancy']].mean()\n",
        "display(monthly.head())"
      ],
      "execution_count": 14,
      "outputs": [
        {
          "output_type": "display_data",
          "data": {
            "text/html": [
              "<div>\n",
              "<style scoped>\n",
              "    .dataframe tbody tr th:only-of-type {\n",
              "        vertical-align: middle;\n",
              "    }\n",
              "\n",
              "    .dataframe tbody tr th {\n",
              "        vertical-align: top;\n",
              "    }\n",
              "\n",
              "    .dataframe thead th {\n",
              "        text-align: right;\n",
              "    }\n",
              "</style>\n",
              "<table border=\"1\" class=\"dataframe\">\n",
              "  <thead>\n",
              "    <tr style=\"text-align: right;\">\n",
              "      <th></th>\n",
              "      <th>occupancy</th>\n",
              "      <th>capacity</th>\n",
              "      <th>vacancy</th>\n",
              "    </tr>\n",
              "    <tr>\n",
              "      <th>occupancy_date</th>\n",
              "      <th></th>\n",
              "      <th></th>\n",
              "      <th></th>\n",
              "    </tr>\n",
              "  </thead>\n",
              "  <tbody>\n",
              "    <tr>\n",
              "      <th>2017-01-31</th>\n",
              "      <td>4548.096774</td>\n",
              "      <td>4863.419355</td>\n",
              "      <td>315.322581</td>\n",
              "    </tr>\n",
              "    <tr>\n",
              "      <th>2017-02-28</th>\n",
              "      <td>4598.750000</td>\n",
              "      <td>4896.428571</td>\n",
              "      <td>297.678571</td>\n",
              "    </tr>\n",
              "    <tr>\n",
              "      <th>2017-03-31</th>\n",
              "      <td>4664.612903</td>\n",
              "      <td>4901.838710</td>\n",
              "      <td>237.225806</td>\n",
              "    </tr>\n",
              "    <tr>\n",
              "      <th>2017-04-30</th>\n",
              "      <td>4778.466667</td>\n",
              "      <td>5032.666667</td>\n",
              "      <td>254.200000</td>\n",
              "    </tr>\n",
              "    <tr>\n",
              "      <th>2017-05-31</th>\n",
              "      <td>4827.967742</td>\n",
              "      <td>5078.677419</td>\n",
              "      <td>250.709677</td>\n",
              "    </tr>\n",
              "  </tbody>\n",
              "</table>\n",
              "</div>"
            ],
            "text/plain": [
              "                  occupancy     capacity     vacancy\n",
              "occupancy_date                                      \n",
              "2017-01-31      4548.096774  4863.419355  315.322581\n",
              "2017-02-28      4598.750000  4896.428571  297.678571\n",
              "2017-03-31      4664.612903  4901.838710  237.225806\n",
              "2017-04-30      4778.466667  5032.666667  254.200000\n",
              "2017-05-31      4827.967742  5078.677419  250.709677"
            ]
          },
          "metadata": {
            "tags": []
          }
        }
      ]
    },
    {
      "cell_type": "markdown",
      "metadata": {
        "id": "e4q8vR5qFSRt",
        "colab_type": "text"
      },
      "source": [
        "monthly"
      ]
    },
    {
      "cell_type": "code",
      "metadata": {
        "id": "u8uMtlxSFSRt",
        "colab_type": "code",
        "colab": {
          "base_uri": "https://localhost:8080/",
          "height": 34
        },
        "outputId": "58b90548-805b-458b-89b7-d5a25b825a81"
      },
      "source": [
        "len(monthly)"
      ],
      "execution_count": 15,
      "outputs": [
        {
          "output_type": "execute_result",
          "data": {
            "text/plain": [
              "36"
            ]
          },
          "metadata": {
            "tags": []
          },
          "execution_count": 15
        }
      ]
    },
    {
      "cell_type": "code",
      "metadata": {
        "id": "uiQhip1cFSRu",
        "colab_type": "code",
        "colab": {}
      },
      "source": [
        "monthly_df = monthly.reset_index()\n",
        "monthly_df['year_month']=pd.to_datetime(monthly_df['occupancy_date']).dt.to_period('M')"
      ],
      "execution_count": 16,
      "outputs": []
    },
    {
      "cell_type": "code",
      "metadata": {
        "id": "UR9E1LbwFSRv",
        "colab_type": "code",
        "colab": {}
      },
      "source": [
        "cpi_data['year_month']=pd.to_datetime(cpi_data['date']).dt.to_period('M')"
      ],
      "execution_count": 17,
      "outputs": []
    },
    {
      "cell_type": "code",
      "metadata": {
        "id": "1et29w82FSRx",
        "colab_type": "code",
        "colab": {
          "base_uri": "https://localhost:8080/",
          "height": 1000
        },
        "outputId": "3cd9871b-e5ac-4e56-b4d8-c4cd72c9b612"
      },
      "source": [
        "df = monthly_df.set_index('year_month').join(cpi_data.set_index('year_month'), lsuffix='_gas', rsuffix='_oil')\n",
        "df"
      ],
      "execution_count": 18,
      "outputs": [
        {
          "output_type": "execute_result",
          "data": {
            "text/html": [
              "<div>\n",
              "<style scoped>\n",
              "    .dataframe tbody tr th:only-of-type {\n",
              "        vertical-align: middle;\n",
              "    }\n",
              "\n",
              "    .dataframe tbody tr th {\n",
              "        vertical-align: top;\n",
              "    }\n",
              "\n",
              "    .dataframe thead th {\n",
              "        text-align: right;\n",
              "    }\n",
              "</style>\n",
              "<table border=\"1\" class=\"dataframe\">\n",
              "  <thead>\n",
              "    <tr style=\"text-align: right;\">\n",
              "      <th></th>\n",
              "      <th>occupancy_date</th>\n",
              "      <th>occupancy</th>\n",
              "      <th>capacity</th>\n",
              "      <th>vacancy</th>\n",
              "      <th>date</th>\n",
              "      <th>CPI</th>\n",
              "      <th>CPI_adj</th>\n",
              "      <th>Static</th>\n",
              "      <th>CPI_TRIM</th>\n",
              "      <th>CPI_MEDIAN</th>\n",
              "      <th>CPI_COMMON</th>\n",
              "      <th>ATOM</th>\n",
              "      <th>CPIXFET</th>\n",
              "      <th>CPIW</th>\n",
              "    </tr>\n",
              "    <tr>\n",
              "      <th>year_month</th>\n",
              "      <th></th>\n",
              "      <th></th>\n",
              "      <th></th>\n",
              "      <th></th>\n",
              "      <th></th>\n",
              "      <th></th>\n",
              "      <th></th>\n",
              "      <th></th>\n",
              "      <th></th>\n",
              "      <th></th>\n",
              "      <th></th>\n",
              "      <th></th>\n",
              "      <th></th>\n",
              "      <th></th>\n",
              "    </tr>\n",
              "  </thead>\n",
              "  <tbody>\n",
              "    <tr>\n",
              "      <th>2017-01</th>\n",
              "      <td>2017-01-31</td>\n",
              "      <td>4548.096774</td>\n",
              "      <td>4863.419355</td>\n",
              "      <td>315.322581</td>\n",
              "      <td>2017-01-01</td>\n",
              "      <td>129.5</td>\n",
              "      <td>130.1</td>\n",
              "      <td>2.1</td>\n",
              "      <td>1.6</td>\n",
              "      <td>1.8</td>\n",
              "      <td>1.3</td>\n",
              "      <td>1.7</td>\n",
              "      <td>2.1</td>\n",
              "      <td>1.5</td>\n",
              "    </tr>\n",
              "    <tr>\n",
              "      <th>2017-02</th>\n",
              "      <td>2017-02-28</td>\n",
              "      <td>4598.750000</td>\n",
              "      <td>4896.428571</td>\n",
              "      <td>297.678571</td>\n",
              "      <td>2017-02-01</td>\n",
              "      <td>129.7</td>\n",
              "      <td>129.9</td>\n",
              "      <td>2.0</td>\n",
              "      <td>1.6</td>\n",
              "      <td>1.7</td>\n",
              "      <td>1.3</td>\n",
              "      <td>1.7</td>\n",
              "      <td>2.0</td>\n",
              "      <td>1.5</td>\n",
              "    </tr>\n",
              "    <tr>\n",
              "      <th>2017-03</th>\n",
              "      <td>2017-03-31</td>\n",
              "      <td>4664.612903</td>\n",
              "      <td>4901.838710</td>\n",
              "      <td>237.225806</td>\n",
              "      <td>2017-03-01</td>\n",
              "      <td>129.9</td>\n",
              "      <td>129.7</td>\n",
              "      <td>1.6</td>\n",
              "      <td>1.4</td>\n",
              "      <td>1.6</td>\n",
              "      <td>1.3</td>\n",
              "      <td>1.3</td>\n",
              "      <td>1.6</td>\n",
              "      <td>1.1</td>\n",
              "    </tr>\n",
              "    <tr>\n",
              "      <th>2017-04</th>\n",
              "      <td>2017-04-30</td>\n",
              "      <td>4778.466667</td>\n",
              "      <td>5032.666667</td>\n",
              "      <td>254.200000</td>\n",
              "      <td>2017-04-01</td>\n",
              "      <td>130.4</td>\n",
              "      <td>130.1</td>\n",
              "      <td>1.6</td>\n",
              "      <td>1.4</td>\n",
              "      <td>1.5</td>\n",
              "      <td>1.3</td>\n",
              "      <td>1.1</td>\n",
              "      <td>1.5</td>\n",
              "      <td>1.0</td>\n",
              "    </tr>\n",
              "    <tr>\n",
              "      <th>2017-05</th>\n",
              "      <td>2017-05-31</td>\n",
              "      <td>4827.967742</td>\n",
              "      <td>5078.677419</td>\n",
              "      <td>250.709677</td>\n",
              "      <td>2017-05-01</td>\n",
              "      <td>130.5</td>\n",
              "      <td>129.9</td>\n",
              "      <td>1.3</td>\n",
              "      <td>1.3</td>\n",
              "      <td>1.4</td>\n",
              "      <td>1.3</td>\n",
              "      <td>0.9</td>\n",
              "      <td>1.3</td>\n",
              "      <td>0.7</td>\n",
              "    </tr>\n",
              "    <tr>\n",
              "      <th>2017-06</th>\n",
              "      <td>2017-06-30</td>\n",
              "      <td>4876.466667</td>\n",
              "      <td>5152.833333</td>\n",
              "      <td>276.366667</td>\n",
              "      <td>2017-06-01</td>\n",
              "      <td>130.4</td>\n",
              "      <td>129.9</td>\n",
              "      <td>1.0</td>\n",
              "      <td>1.2</td>\n",
              "      <td>1.5</td>\n",
              "      <td>1.3</td>\n",
              "      <td>0.9</td>\n",
              "      <td>1.3</td>\n",
              "      <td>0.7</td>\n",
              "    </tr>\n",
              "    <tr>\n",
              "      <th>2017-07</th>\n",
              "      <td>2017-07-31</td>\n",
              "      <td>4895.677419</td>\n",
              "      <td>5265.419355</td>\n",
              "      <td>369.741935</td>\n",
              "      <td>2017-07-01</td>\n",
              "      <td>130.4</td>\n",
              "      <td>130.1</td>\n",
              "      <td>1.2</td>\n",
              "      <td>1.3</td>\n",
              "      <td>1.6</td>\n",
              "      <td>1.4</td>\n",
              "      <td>0.9</td>\n",
              "      <td>1.5</td>\n",
              "      <td>0.8</td>\n",
              "    </tr>\n",
              "    <tr>\n",
              "      <th>2017-08</th>\n",
              "      <td>2017-08-31</td>\n",
              "      <td>4953.096774</td>\n",
              "      <td>5222.064516</td>\n",
              "      <td>268.967742</td>\n",
              "      <td>2017-08-01</td>\n",
              "      <td>130.5</td>\n",
              "      <td>130.4</td>\n",
              "      <td>1.4</td>\n",
              "      <td>1.4</td>\n",
              "      <td>1.6</td>\n",
              "      <td>1.5</td>\n",
              "      <td>0.9</td>\n",
              "      <td>1.5</td>\n",
              "      <td>0.8</td>\n",
              "    </tr>\n",
              "    <tr>\n",
              "      <th>2017-09</th>\n",
              "      <td>2017-09-30</td>\n",
              "      <td>5005.633333</td>\n",
              "      <td>5237.233333</td>\n",
              "      <td>231.600000</td>\n",
              "      <td>2017-09-01</td>\n",
              "      <td>130.8</td>\n",
              "      <td>130.7</td>\n",
              "      <td>1.6</td>\n",
              "      <td>1.4</td>\n",
              "      <td>1.6</td>\n",
              "      <td>1.5</td>\n",
              "      <td>0.8</td>\n",
              "      <td>1.2</td>\n",
              "      <td>0.7</td>\n",
              "    </tr>\n",
              "    <tr>\n",
              "      <th>2017-10</th>\n",
              "      <td>2017-10-31</td>\n",
              "      <td>5131.193548</td>\n",
              "      <td>5331.548387</td>\n",
              "      <td>200.354839</td>\n",
              "      <td>2017-10-01</td>\n",
              "      <td>130.9</td>\n",
              "      <td>130.9</td>\n",
              "      <td>1.4</td>\n",
              "      <td>1.4</td>\n",
              "      <td>1.5</td>\n",
              "      <td>1.5</td>\n",
              "      <td>0.9</td>\n",
              "      <td>1.4</td>\n",
              "      <td>0.8</td>\n",
              "    </tr>\n",
              "    <tr>\n",
              "      <th>2017-11</th>\n",
              "      <td>2017-11-30</td>\n",
              "      <td>5184.400000</td>\n",
              "      <td>5395.166667</td>\n",
              "      <td>210.766667</td>\n",
              "      <td>2017-11-01</td>\n",
              "      <td>131.3</td>\n",
              "      <td>131.7</td>\n",
              "      <td>2.1</td>\n",
              "      <td>1.7</td>\n",
              "      <td>1.6</td>\n",
              "      <td>1.5</td>\n",
              "      <td>1.3</td>\n",
              "      <td>1.8</td>\n",
              "      <td>1.1</td>\n",
              "    </tr>\n",
              "    <tr>\n",
              "      <th>2017-12</th>\n",
              "      <td>2017-12-31</td>\n",
              "      <td>5234.258065</td>\n",
              "      <td>5478.290323</td>\n",
              "      <td>244.032258</td>\n",
              "      <td>2017-12-01</td>\n",
              "      <td>130.8</td>\n",
              "      <td>131.8</td>\n",
              "      <td>1.9</td>\n",
              "      <td>1.7</td>\n",
              "      <td>1.7</td>\n",
              "      <td>1.6</td>\n",
              "      <td>1.2</td>\n",
              "      <td>1.7</td>\n",
              "      <td>1.3</td>\n",
              "    </tr>\n",
              "    <tr>\n",
              "      <th>2018-01</th>\n",
              "      <td>2018-01-31</td>\n",
              "      <td>5647.064516</td>\n",
              "      <td>5875.580645</td>\n",
              "      <td>228.516129</td>\n",
              "      <td>2018-01-01</td>\n",
              "      <td>131.7</td>\n",
              "      <td>132.3</td>\n",
              "      <td>1.7</td>\n",
              "      <td>1.8</td>\n",
              "      <td>1.7</td>\n",
              "      <td>1.7</td>\n",
              "      <td>1.2</td>\n",
              "      <td>1.5</td>\n",
              "      <td>1.4</td>\n",
              "    </tr>\n",
              "    <tr>\n",
              "      <th>2018-02</th>\n",
              "      <td>2018-02-28</td>\n",
              "      <td>5845.392857</td>\n",
              "      <td>6113.142857</td>\n",
              "      <td>267.750000</td>\n",
              "      <td>2018-02-01</td>\n",
              "      <td>132.5</td>\n",
              "      <td>132.6</td>\n",
              "      <td>2.2</td>\n",
              "      <td>2.0</td>\n",
              "      <td>1.9</td>\n",
              "      <td>1.8</td>\n",
              "      <td>1.5</td>\n",
              "      <td>1.8</td>\n",
              "      <td>1.7</td>\n",
              "    </tr>\n",
              "    <tr>\n",
              "      <th>2018-03</th>\n",
              "      <td>2018-03-31</td>\n",
              "      <td>6057.838710</td>\n",
              "      <td>6366.677419</td>\n",
              "      <td>308.838710</td>\n",
              "      <td>2018-03-01</td>\n",
              "      <td>132.9</td>\n",
              "      <td>132.7</td>\n",
              "      <td>2.3</td>\n",
              "      <td>1.9</td>\n",
              "      <td>1.9</td>\n",
              "      <td>1.9</td>\n",
              "      <td>1.4</td>\n",
              "      <td>1.9</td>\n",
              "      <td>1.8</td>\n",
              "    </tr>\n",
              "    <tr>\n",
              "      <th>2018-04</th>\n",
              "      <td>2018-04-30</td>\n",
              "      <td>6335.133333</td>\n",
              "      <td>6634.600000</td>\n",
              "      <td>299.466667</td>\n",
              "      <td>2018-04-01</td>\n",
              "      <td>133.3</td>\n",
              "      <td>132.8</td>\n",
              "      <td>2.2</td>\n",
              "      <td>1.9</td>\n",
              "      <td>1.9</td>\n",
              "      <td>1.9</td>\n",
              "      <td>1.5</td>\n",
              "      <td>1.8</td>\n",
              "      <td>2.0</td>\n",
              "    </tr>\n",
              "    <tr>\n",
              "      <th>2018-05</th>\n",
              "      <td>2018-05-31</td>\n",
              "      <td>6619.741935</td>\n",
              "      <td>6965.258065</td>\n",
              "      <td>345.516129</td>\n",
              "      <td>2018-05-01</td>\n",
              "      <td>133.4</td>\n",
              "      <td>132.9</td>\n",
              "      <td>2.2</td>\n",
              "      <td>1.8</td>\n",
              "      <td>1.8</td>\n",
              "      <td>1.9</td>\n",
              "      <td>1.3</td>\n",
              "      <td>1.7</td>\n",
              "      <td>1.9</td>\n",
              "    </tr>\n",
              "    <tr>\n",
              "      <th>2018-06</th>\n",
              "      <td>2018-06-30</td>\n",
              "      <td>6509.866667</td>\n",
              "      <td>7022.566667</td>\n",
              "      <td>512.700000</td>\n",
              "      <td>2018-06-01</td>\n",
              "      <td>133.6</td>\n",
              "      <td>133.1</td>\n",
              "      <td>2.5</td>\n",
              "      <td>1.9</td>\n",
              "      <td>1.9</td>\n",
              "      <td>1.9</td>\n",
              "      <td>1.3</td>\n",
              "      <td>1.8</td>\n",
              "      <td>2.0</td>\n",
              "    </tr>\n",
              "    <tr>\n",
              "      <th>2018-07</th>\n",
              "      <td>2018-07-31</td>\n",
              "      <td>6440.322581</td>\n",
              "      <td>6939.096774</td>\n",
              "      <td>498.774194</td>\n",
              "      <td>2018-07-01</td>\n",
              "      <td>134.3</td>\n",
              "      <td>133.7</td>\n",
              "      <td>3.0</td>\n",
              "      <td>2.0</td>\n",
              "      <td>1.9</td>\n",
              "      <td>1.9</td>\n",
              "      <td>1.6</td>\n",
              "      <td>2.3</td>\n",
              "      <td>2.2</td>\n",
              "    </tr>\n",
              "    <tr>\n",
              "      <th>2018-08</th>\n",
              "      <td>2018-08-31</td>\n",
              "      <td>6488.419355</td>\n",
              "      <td>7011.032258</td>\n",
              "      <td>522.612903</td>\n",
              "      <td>2018-08-01</td>\n",
              "      <td>134.2</td>\n",
              "      <td>133.9</td>\n",
              "      <td>2.8</td>\n",
              "      <td>2.0</td>\n",
              "      <td>1.9</td>\n",
              "      <td>1.9</td>\n",
              "      <td>1.7</td>\n",
              "      <td>2.3</td>\n",
              "      <td>2.2</td>\n",
              "    </tr>\n",
              "    <tr>\n",
              "      <th>2018-09</th>\n",
              "      <td>2018-09-30</td>\n",
              "      <td>6523.933333</td>\n",
              "      <td>7078.466667</td>\n",
              "      <td>554.533333</td>\n",
              "      <td>2018-09-01</td>\n",
              "      <td>133.7</td>\n",
              "      <td>133.8</td>\n",
              "      <td>2.2</td>\n",
              "      <td>1.9</td>\n",
              "      <td>1.9</td>\n",
              "      <td>1.9</td>\n",
              "      <td>1.5</td>\n",
              "      <td>1.8</td>\n",
              "      <td>2.1</td>\n",
              "    </tr>\n",
              "    <tr>\n",
              "      <th>2018-10</th>\n",
              "      <td>2018-10-31</td>\n",
              "      <td>6590.225806</td>\n",
              "      <td>7065.387097</td>\n",
              "      <td>475.161290</td>\n",
              "      <td>2018-10-01</td>\n",
              "      <td>134.1</td>\n",
              "      <td>134.2</td>\n",
              "      <td>2.4</td>\n",
              "      <td>2.0</td>\n",
              "      <td>2.0</td>\n",
              "      <td>1.9</td>\n",
              "      <td>1.6</td>\n",
              "      <td>2.1</td>\n",
              "      <td>2.2</td>\n",
              "    </tr>\n",
              "    <tr>\n",
              "      <th>2018-11</th>\n",
              "      <td>2018-11-30</td>\n",
              "      <td>6600.666667</td>\n",
              "      <td>7082.800000</td>\n",
              "      <td>482.133333</td>\n",
              "      <td>2018-11-01</td>\n",
              "      <td>133.5</td>\n",
              "      <td>134.0</td>\n",
              "      <td>1.7</td>\n",
              "      <td>1.9</td>\n",
              "      <td>1.8</td>\n",
              "      <td>1.9</td>\n",
              "      <td>1.5</td>\n",
              "      <td>1.7</td>\n",
              "      <td>1.9</td>\n",
              "    </tr>\n",
              "    <tr>\n",
              "      <th>2018-12</th>\n",
              "      <td>2018-12-31</td>\n",
              "      <td>6686.225806</td>\n",
              "      <td>7195.322581</td>\n",
              "      <td>509.096774</td>\n",
              "      <td>2018-12-01</td>\n",
              "      <td>133.4</td>\n",
              "      <td>134.3</td>\n",
              "      <td>2.0</td>\n",
              "      <td>1.8</td>\n",
              "      <td>1.8</td>\n",
              "      <td>1.9</td>\n",
              "      <td>1.7</td>\n",
              "      <td>2.3</td>\n",
              "      <td>2.0</td>\n",
              "    </tr>\n",
              "    <tr>\n",
              "      <th>2019-01</th>\n",
              "      <td>2019-01-31</td>\n",
              "      <td>6810.451613</td>\n",
              "      <td>7259.354839</td>\n",
              "      <td>448.903226</td>\n",
              "      <td>2019-01-01</td>\n",
              "      <td>133.6</td>\n",
              "      <td>134.3</td>\n",
              "      <td>1.4</td>\n",
              "      <td>1.8</td>\n",
              "      <td>1.8</td>\n",
              "      <td>1.8</td>\n",
              "      <td>1.5</td>\n",
              "      <td>1.9</td>\n",
              "      <td>2.0</td>\n",
              "    </tr>\n",
              "    <tr>\n",
              "      <th>2019-02</th>\n",
              "      <td>2019-02-28</td>\n",
              "      <td>6850.857143</td>\n",
              "      <td>7318.571429</td>\n",
              "      <td>467.714286</td>\n",
              "      <td>2019-02-01</td>\n",
              "      <td>134.5</td>\n",
              "      <td>134.7</td>\n",
              "      <td>1.5</td>\n",
              "      <td>1.9</td>\n",
              "      <td>1.9</td>\n",
              "      <td>1.8</td>\n",
              "      <td>1.5</td>\n",
              "      <td>2.0</td>\n",
              "      <td>2.0</td>\n",
              "    </tr>\n",
              "    <tr>\n",
              "      <th>2019-03</th>\n",
              "      <td>2019-03-31</td>\n",
              "      <td>6866.774194</td>\n",
              "      <td>7337.903226</td>\n",
              "      <td>471.129032</td>\n",
              "      <td>2019-03-01</td>\n",
              "      <td>135.4</td>\n",
              "      <td>135.2</td>\n",
              "      <td>1.9</td>\n",
              "      <td>2.1</td>\n",
              "      <td>2.0</td>\n",
              "      <td>1.8</td>\n",
              "      <td>1.6</td>\n",
              "      <td>1.9</td>\n",
              "      <td>2.3</td>\n",
              "    </tr>\n",
              "    <tr>\n",
              "      <th>2019-04</th>\n",
              "      <td>2019-04-30</td>\n",
              "      <td>6956.933333</td>\n",
              "      <td>7440.033333</td>\n",
              "      <td>483.100000</td>\n",
              "      <td>2019-04-01</td>\n",
              "      <td>136.0</td>\n",
              "      <td>135.6</td>\n",
              "      <td>2.0</td>\n",
              "      <td>2.0</td>\n",
              "      <td>2.0</td>\n",
              "      <td>1.8</td>\n",
              "      <td>1.5</td>\n",
              "      <td>2.0</td>\n",
              "      <td>2.2</td>\n",
              "    </tr>\n",
              "    <tr>\n",
              "      <th>2019-05</th>\n",
              "      <td>2019-05-31</td>\n",
              "      <td>6988.580645</td>\n",
              "      <td>7545.516129</td>\n",
              "      <td>556.935484</td>\n",
              "      <td>2019-05-01</td>\n",
              "      <td>136.6</td>\n",
              "      <td>136.0</td>\n",
              "      <td>2.4</td>\n",
              "      <td>2.2</td>\n",
              "      <td>2.1</td>\n",
              "      <td>1.8</td>\n",
              "      <td>2.1</td>\n",
              "      <td>2.4</td>\n",
              "      <td>2.5</td>\n",
              "    </tr>\n",
              "    <tr>\n",
              "      <th>2019-06</th>\n",
              "      <td>2019-06-30</td>\n",
              "      <td>7008.766667</td>\n",
              "      <td>7347.866667</td>\n",
              "      <td>339.100000</td>\n",
              "      <td>2019-06-01</td>\n",
              "      <td>136.3</td>\n",
              "      <td>135.9</td>\n",
              "      <td>2.0</td>\n",
              "      <td>2.1</td>\n",
              "      <td>2.1</td>\n",
              "      <td>1.8</td>\n",
              "      <td>2.0</td>\n",
              "      <td>2.3</td>\n",
              "      <td>2.3</td>\n",
              "    </tr>\n",
              "    <tr>\n",
              "      <th>2019-07</th>\n",
              "      <td>2019-07-31</td>\n",
              "      <td>6937.258065</td>\n",
              "      <td>7198.225806</td>\n",
              "      <td>260.967742</td>\n",
              "      <td>2019-07-01</td>\n",
              "      <td>137.0</td>\n",
              "      <td>136.4</td>\n",
              "      <td>2.0</td>\n",
              "      <td>2.1</td>\n",
              "      <td>2.1</td>\n",
              "      <td>1.9</td>\n",
              "      <td>2.0</td>\n",
              "      <td>2.2</td>\n",
              "      <td>2.4</td>\n",
              "    </tr>\n",
              "    <tr>\n",
              "      <th>2019-08</th>\n",
              "      <td>2019-08-31</td>\n",
              "      <td>6857.774194</td>\n",
              "      <td>7133.580645</td>\n",
              "      <td>275.806452</td>\n",
              "      <td>2019-08-01</td>\n",
              "      <td>136.8</td>\n",
              "      <td>136.4</td>\n",
              "      <td>1.9</td>\n",
              "      <td>2.0</td>\n",
              "      <td>2.1</td>\n",
              "      <td>1.8</td>\n",
              "      <td>1.9</td>\n",
              "      <td>2.2</td>\n",
              "      <td>2.3</td>\n",
              "    </tr>\n",
              "    <tr>\n",
              "      <th>2019-09</th>\n",
              "      <td>2019-09-30</td>\n",
              "      <td>6657.533333</td>\n",
              "      <td>6965.933333</td>\n",
              "      <td>308.400000</td>\n",
              "      <td>2019-09-01</td>\n",
              "      <td>136.2</td>\n",
              "      <td>136.3</td>\n",
              "      <td>1.9</td>\n",
              "      <td>2.1</td>\n",
              "      <td>2.1</td>\n",
              "      <td>1.8</td>\n",
              "      <td>1.9</td>\n",
              "      <td>2.1</td>\n",
              "      <td>2.4</td>\n",
              "    </tr>\n",
              "    <tr>\n",
              "      <th>2019-10</th>\n",
              "      <td>2019-10-31</td>\n",
              "      <td>6599.225806</td>\n",
              "      <td>6888.193548</td>\n",
              "      <td>288.967742</td>\n",
              "      <td>2019-10-01</td>\n",
              "      <td>136.6</td>\n",
              "      <td>136.7</td>\n",
              "      <td>1.9</td>\n",
              "      <td>2.0</td>\n",
              "      <td>2.1</td>\n",
              "      <td>1.8</td>\n",
              "      <td>1.9</td>\n",
              "      <td>2.0</td>\n",
              "      <td>2.4</td>\n",
              "    </tr>\n",
              "    <tr>\n",
              "      <th>2019-11</th>\n",
              "      <td>2019-11-30</td>\n",
              "      <td>6678.600000</td>\n",
              "      <td>7096.133333</td>\n",
              "      <td>417.533333</td>\n",
              "      <td>2019-11-01</td>\n",
              "      <td>136.4</td>\n",
              "      <td>136.8</td>\n",
              "      <td>2.2</td>\n",
              "      <td>2.2</td>\n",
              "      <td>2.2</td>\n",
              "      <td>1.9</td>\n",
              "      <td>1.9</td>\n",
              "      <td>2.0</td>\n",
              "      <td>2.5</td>\n",
              "    </tr>\n",
              "    <tr>\n",
              "      <th>2019-12</th>\n",
              "      <td>2019-12-31</td>\n",
              "      <td>6799.193548</td>\n",
              "      <td>7197.774194</td>\n",
              "      <td>398.580645</td>\n",
              "      <td>2019-12-01</td>\n",
              "      <td>136.4</td>\n",
              "      <td>137.3</td>\n",
              "      <td>2.2</td>\n",
              "      <td>2.0</td>\n",
              "      <td>2.1</td>\n",
              "      <td>1.9</td>\n",
              "      <td>1.7</td>\n",
              "      <td>1.8</td>\n",
              "      <td>2.4</td>\n",
              "    </tr>\n",
              "  </tbody>\n",
              "</table>\n",
              "</div>"
            ],
            "text/plain": [
              "           occupancy_date    occupancy     capacity  ...  ATOM CPIXFET  CPIW\n",
              "year_month                                           ...                    \n",
              "2017-01        2017-01-31  4548.096774  4863.419355  ...   1.7     2.1   1.5\n",
              "2017-02        2017-02-28  4598.750000  4896.428571  ...   1.7     2.0   1.5\n",
              "2017-03        2017-03-31  4664.612903  4901.838710  ...   1.3     1.6   1.1\n",
              "2017-04        2017-04-30  4778.466667  5032.666667  ...   1.1     1.5   1.0\n",
              "2017-05        2017-05-31  4827.967742  5078.677419  ...   0.9     1.3   0.7\n",
              "2017-06        2017-06-30  4876.466667  5152.833333  ...   0.9     1.3   0.7\n",
              "2017-07        2017-07-31  4895.677419  5265.419355  ...   0.9     1.5   0.8\n",
              "2017-08        2017-08-31  4953.096774  5222.064516  ...   0.9     1.5   0.8\n",
              "2017-09        2017-09-30  5005.633333  5237.233333  ...   0.8     1.2   0.7\n",
              "2017-10        2017-10-31  5131.193548  5331.548387  ...   0.9     1.4   0.8\n",
              "2017-11        2017-11-30  5184.400000  5395.166667  ...   1.3     1.8   1.1\n",
              "2017-12        2017-12-31  5234.258065  5478.290323  ...   1.2     1.7   1.3\n",
              "2018-01        2018-01-31  5647.064516  5875.580645  ...   1.2     1.5   1.4\n",
              "2018-02        2018-02-28  5845.392857  6113.142857  ...   1.5     1.8   1.7\n",
              "2018-03        2018-03-31  6057.838710  6366.677419  ...   1.4     1.9   1.8\n",
              "2018-04        2018-04-30  6335.133333  6634.600000  ...   1.5     1.8   2.0\n",
              "2018-05        2018-05-31  6619.741935  6965.258065  ...   1.3     1.7   1.9\n",
              "2018-06        2018-06-30  6509.866667  7022.566667  ...   1.3     1.8   2.0\n",
              "2018-07        2018-07-31  6440.322581  6939.096774  ...   1.6     2.3   2.2\n",
              "2018-08        2018-08-31  6488.419355  7011.032258  ...   1.7     2.3   2.2\n",
              "2018-09        2018-09-30  6523.933333  7078.466667  ...   1.5     1.8   2.1\n",
              "2018-10        2018-10-31  6590.225806  7065.387097  ...   1.6     2.1   2.2\n",
              "2018-11        2018-11-30  6600.666667  7082.800000  ...   1.5     1.7   1.9\n",
              "2018-12        2018-12-31  6686.225806  7195.322581  ...   1.7     2.3   2.0\n",
              "2019-01        2019-01-31  6810.451613  7259.354839  ...   1.5     1.9   2.0\n",
              "2019-02        2019-02-28  6850.857143  7318.571429  ...   1.5     2.0   2.0\n",
              "2019-03        2019-03-31  6866.774194  7337.903226  ...   1.6     1.9   2.3\n",
              "2019-04        2019-04-30  6956.933333  7440.033333  ...   1.5     2.0   2.2\n",
              "2019-05        2019-05-31  6988.580645  7545.516129  ...   2.1     2.4   2.5\n",
              "2019-06        2019-06-30  7008.766667  7347.866667  ...   2.0     2.3   2.3\n",
              "2019-07        2019-07-31  6937.258065  7198.225806  ...   2.0     2.2   2.4\n",
              "2019-08        2019-08-31  6857.774194  7133.580645  ...   1.9     2.2   2.3\n",
              "2019-09        2019-09-30  6657.533333  6965.933333  ...   1.9     2.1   2.4\n",
              "2019-10        2019-10-31  6599.225806  6888.193548  ...   1.9     2.0   2.4\n",
              "2019-11        2019-11-30  6678.600000  7096.133333  ...   1.9     2.0   2.5\n",
              "2019-12        2019-12-31  6799.193548  7197.774194  ...   1.7     1.8   2.4\n",
              "\n",
              "[36 rows x 14 columns]"
            ]
          },
          "metadata": {
            "tags": []
          },
          "execution_count": 18
        }
      ]
    },
    {
      "cell_type": "code",
      "metadata": {
        "id": "ZJXDNRRVFSRy",
        "colab_type": "code",
        "colab": {
          "base_uri": "https://localhost:8080/",
          "height": 307
        },
        "outputId": "b26131b2-ff39-4481-e3e6-9e77ad7d1a61"
      },
      "source": [
        "plt.figure()\n",
        "df.CPI.plot(grid=True)"
      ],
      "execution_count": 19,
      "outputs": [
        {
          "output_type": "execute_result",
          "data": {
            "text/plain": [
              "<matplotlib.axes._subplots.AxesSubplot at 0x7f0fc52ace10>"
            ]
          },
          "metadata": {
            "tags": []
          },
          "execution_count": 19
        },
        {
          "output_type": "display_data",
          "data": {
            "image/png": "[encoded data removed]",
            "text/plain": [
              "<Figure size 432x288 with 1 Axes>"
            ]
          },
          "metadata": {
            "tags": [],
            "image/png": {
              "width": 375,
              "height": 273
            },
            "needs_background": "light"
          }
        }
      ]
    },
    {
      "cell_type": "code",
      "metadata": {
        "id": "tt5n3x0qFSRz",
        "colab_type": "code",
        "colab": {
          "base_uri": "https://localhost:8080/",
          "height": 307
        },
        "outputId": "c75a0ced-59e1-4e46-bd45-0834a70f5bd0"
      },
      "source": [
        "plt.figure()\n",
        "df.occupancy.plot(grid=True)"
      ],
      "execution_count": 20,
      "outputs": [
        {
          "output_type": "execute_result",
          "data": {
            "text/plain": [
              "<matplotlib.axes._subplots.AxesSubplot at 0x7f0fc4d01940>"
            ]
          },
          "metadata": {
            "tags": []
          },
          "execution_count": 20
        },
        {
          "output_type": "display_data",
          "data": {
            "image/png": "[encoded data removed]",
            "text/plain": [
              "<Figure size 432x288 with 1 Axes>"
            ]
          },
          "metadata": {
            "tags": [],
            "image/png": {
              "width": 381,
              "height": 273
            },
            "needs_background": "light"
          }
        }
      ]
    },
    {
      "cell_type": "code",
      "metadata": {
        "id": "r4J1fljzFSR0",
        "colab_type": "code",
        "colab": {
          "base_uri": "https://localhost:8080/",
          "height": 311
        },
        "outputId": "b075a26b-a066-45e9-df65-8f964824c6fb"
      },
      "source": [
        "df2 = df.reset_index()\n",
        "data = df2[['occupancy', 'CPI']]\n",
        "plt.plot(data.CPI, data.occupancy, 'o', label = 'Observations')\n",
        "plt.xlabel('CPI')\n",
        "plt.ylabel('occupancy')\n",
        "plt.title('Shelter Occupancy vs CPI')"
      ],
      "execution_count": 21,
      "outputs": [
        {
          "output_type": "execute_result",
          "data": {
            "text/plain": [
              "Text(0.5, 1.0, 'Shelter Occupancy vs CPI')"
            ]
          },
          "metadata": {
            "tags": []
          },
          "execution_count": 21
        },
        {
          "output_type": "display_data",
          "data": {
            "image/png": "[encoded data removed]",
            "text/plain": [
              "<Figure size 432x288 with 1 Axes>"
            ]
          },
          "metadata": {
            "tags": [],
            "image/png": {
              "width": 395,
              "height": 277
            },
            "needs_background": "light"
          }
        }
      ]
    },
    {
      "cell_type": "code",
      "metadata": {
        "id": "nKAuQmCqFSR1",
        "colab_type": "code",
        "colab": {
          "base_uri": "https://localhost:8080/",
          "height": 311
        },
        "outputId": "558cf6be-c652-4486-a8f6-a651f1948bbe"
      },
      "source": [
        "data['xform'] = data['CPI']**.5\n",
        "#data['xform'] = np.log(data['CPI'])\n",
        "plt.plot(data.xform, data.occupancy, 'o', label = 'Observations')\n",
        "plt.xlabel('transformed CPI')\n",
        "plt.ylabel('occupancy')\n",
        "plt.title('Shelter Occupancy vs transformed CPI')"
      ],
      "execution_count": 22,
      "outputs": [
        {
          "output_type": "execute_result",
          "data": {
            "text/plain": [
              "Text(0.5, 1.0, 'Shelter Occupancy vs transformed CPI')"
            ]
          },
          "metadata": {
            "tags": []
          },
          "execution_count": 22
        },
        {
          "output_type": "display_data",
          "data": {
            "image/png": "[encoded data removed]",
            "text/plain": [
              "<Figure size 432x288 with 1 Axes>"
            ]
          },
          "metadata": {
            "tags": [],
            "image/png": {
              "width": 395,
              "height": 277
            },
            "needs_background": "light"
          }
        }
      ]
    },
    {
      "cell_type": "code",
      "metadata": {
        "id": "nn_wWVhNFSR2",
        "colab_type": "code",
        "colab": {
          "base_uri": "https://localhost:8080/",
          "height": 1000
        },
        "outputId": "eb076fbd-5a42-48d6-8e80-31925aa88efc"
      },
      "source": [
        "m = sm.ols('occupancy ~ CPI', data = data)\n",
        "m = m.fit()\n",
        "intercept, slope = m.params\n",
        "data['y_est'] = intercept + slope * data.CPI\n",
        "\n",
        "# Calculate the residuals\n",
        "data['Residuals'] = data['y_est'] - data['occupancy']\n",
        "\n",
        "plt.plot(data.CPI, data.occupancy, 'o', label = 'Observations')\n",
        "plt.xlabel('x')\n",
        "plt.ylabel('y')\n",
        "plt.title('model fit')\n",
        "\n",
        "# Plot regression line\n",
        "plt.plot(data.CPI, data.y_est, 'r-', label='Regression line')\n",
        "\n",
        "# Add legend\n",
        "plt.legend()\n",
        "plt.show()\n",
        "\n",
        "# We will plot the histogram of the residuals first\n",
        "plt.hist(data.Residuals)\n",
        "\n",
        "# Add axes labels\n",
        "plt.xlabel('Residulas')\n",
        "plt.ylabel('Count')\n",
        "plt.title('Residulas Histogram')\n",
        "plt.show()\n",
        "\n",
        "# And we will print the statistical summary of the residuals,\n",
        "# i.e. (median, mean, quartiles, etc.)\n",
        "print('Model Residuals')\n",
        "print(data['Residuals'].describe())\n",
        "print('=========================')\n",
        "# Print model summary \n",
        "print(m.summary())"
      ],
      "execution_count": 23,
      "outputs": [
        {
          "output_type": "display_data",
          "data": {
            "image/png": "[encoded data removed]",
            "text/plain": [
              "<Figure size 432x288 with 1 Axes>"
            ]
          },
          "metadata": {
            "tags": [],
            "image/png": {
              "width": 395,
              "height": 277
            },
            "needs_background": "light"
          }
        },
        {
          "output_type": "display_data",
          "data": {
            "image/png": "[encoded data removed]",
            "text/plain": [
              "<Figure size 432x288 with 1 Axes>"
            ]
          },
          "metadata": {
            "tags": [],
            "image/png": {
              "width": 383,
              "height": 277
            },
            "needs_background": "light"
          }
        },
        {
          "output_type": "stream",
          "text": [
            "Model Residuals\n",
            "count    3.600000e+01\n",
            "mean    -1.952887e-11\n",
            "std      3.149688e+02\n",
            "min     -6.684421e+02\n",
            "25%     -1.830398e+02\n",
            "50%      7.202937e+01\n",
            "75%      2.359488e+02\n",
            "max      5.486369e+02\n",
            "Name: Residuals, dtype: float64\n",
            "=========================\n",
            "                            OLS Regression Results                            \n",
            "==============================================================================\n",
            "Dep. Variable:              occupancy   R-squared:                       0.869\n",
            "Model:                            OLS   Adj. R-squared:                  0.866\n",
            "Method:                 Least Squares   F-statistic:                     226.5\n",
            "Date:                Thu, 30 Jul 2020   Prob (F-statistic):           1.34e-16\n",
            "Time:                        19:02:22   Log-Likelihood:                -257.66\n",
            "No. Observations:                  36   AIC:                             519.3\n",
            "Df Residuals:                      34   BIC:                             522.5\n",
            "Df Model:                           1                                         \n",
            "Covariance Type:            nonrobust                                         \n",
            "==============================================================================\n",
            "                 coef    std err          t      P>|t|      [0.025      0.975]\n",
            "------------------------------------------------------------------------------\n",
            "Intercept  -3.865e+04   2969.201    -13.018      0.000   -4.47e+04   -3.26e+04\n",
            "CPI          335.2844     22.277     15.051      0.000     290.012     380.557\n",
            "==============================================================================\n",
            "Omnibus:                        2.687   Durbin-Watson:                   0.229\n",
            "Prob(Omnibus):                  0.261   Jarque-Bera (JB):                2.230\n",
            "Skew:                           0.487   Prob(JB):                        0.328\n",
            "Kurtosis:                       2.266   Cond. No.                     7.43e+03\n",
            "==============================================================================\n",
            "\n",
            "Warnings:\n",
            "[1] Standard Errors assume that the covariance matrix of the errors is correctly specified.\n",
            "[2] The condition number is large, 7.43e+03. This might indicate that there are\n",
            "strong multicollinearity or other numerical problems.\n"
          ],
          "name": "stdout"
        }
      ]
    },
    {
      "cell_type": "code",
      "metadata": {
        "id": "K2___ORiFSR3",
        "colab_type": "code",
        "colab": {}
      },
      "source": [
        ""
      ],
      "execution_count": 23,
      "outputs": []
    }
  ]
}