{
  "nbformat": 4,
  "nbformat_minor": 0,
  "metadata": {
    "colab": {
      "name": "SM_Starter.ipynb",
      "provenance": [],
      "collapsed_sections": [],
      "authorship_tag": "ABX9TyMYH+eVjfrixmEktkkMr6fP",
      "include_colab_link": true
    },
    "kernelspec": {
      "name": "python3",
      "display_name": "Python 3"
    }
  },
  "cells": [
    {
      "cell_type": "markdown",
      "metadata": {
        "id": "view-in-github",
        "colab_type": "text"
      },
      "source": [
        "<a href=\"https://colab.research.google.com/github/VernonNaidoo-Toronto/Understanding-Toronto-Shelters/blob/master/SM_Starter.ipynb\" target=\"_parent\"><img src=\"https://colab.research.google.com/assets/colab-badge.svg\" alt=\"Open In Colab\"/></a>"
      ]
    },
    {
      "cell_type": "markdown",
      "metadata": {
        "id": "WqMNQKtNYWdi",
        "colab_type": "text"
      },
      "source": [
        "# Steve's Starter Notebook"
      ]
    },
    {
      "cell_type": "code",
      "metadata": {
        "id": "UCccBDUdYUMc",
        "colab_type": "code",
        "colab": {}
      },
      "source": [
        "# Code cell\n",
        "print('Hello World!')"
      ],
      "execution_count": null,
      "outputs": []
    }
  ]
}