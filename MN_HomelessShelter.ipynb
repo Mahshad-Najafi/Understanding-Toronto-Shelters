{
 "cells": [
  {
   "cell_type": "markdown",
   "metadata": {
    "colab_type": "text",
    "id": "view-in-github"
   },
   "source": [
    "<a href=\"https://colab.research.google.com/github/VernonNaidoo-Toronto/Understanding-Toronto-Shelters/blob/master/MN_HomelessShelter.ipynb\" target=\"_parent\"><img src=\"https://colab.research.google.com/assets/colab-badge.svg\" alt=\"Open In Colab\"/></a>"
   ]
  },
  {
   "cell_type": "code",
   "execution_count": 1,
   "metadata": {
    "colab": {
     "base_uri": "https://localhost:8080/",
     "height": 69
    },
    "colab_type": "code",
    "id": "shu2B4jHGyM0",
    "outputId": "3019a3ea-11a9-4fb3-8e98-1357911f29f2"
   },
   "outputs": [],
   "source": [
    "import pandas as pd\n",
    "import numpy as np\n",
    "import matplotlib.pyplot as plt\n",
    "import seaborn as sns"
   ]
  },
  {
   "cell_type": "code",
   "execution_count": 2,
   "metadata": {
    "colab": {},
    "colab_type": "code",
    "id": "XfcpzDcBGyM8"
   },
   "outputs": [],
   "source": [
    "# Import shelter data from Github:\n",
    "\n",
    "#df17=pd.read_csv('daily-shelter-occupancy-2017-csv.csv')\n",
    "#df18=pd.read_csv('daily-shelter-occupancy-2018-csv.csv')\n",
    "#df19=pd.read_csv('daily-shelter-occupancy-2019-csv.csv')\n",
    "\n",
    "path = 'https://raw.githubusercontent.com/VernonNaidoo-Toronto/Understanding-Toronto-Shelters/master/Shelter%20Data/'\n",
    "df17=pd.read_csv(path + 'daily-shelter-occupancy-2017-csv.csv')\n",
    "df18=pd.read_csv(path + 'daily-shelter-occupancy-2018-csv.csv')\n",
    "df19=pd.read_csv(path + 'daily-shelter-occupancy-2019-csv.csv')"
   ]
  },
  {
   "cell_type": "code",
   "execution_count": 3,
   "metadata": {
    "colab": {
     "base_uri": "https://localhost:8080/",
     "height": 860
    },
    "colab_type": "code",
    "id": "gK_WRD1pGyNC",
    "outputId": "ca5d4ddc-1819-4ccc-8335-37fbbdde2e04"
   },
   "outputs": [
    {
     "data": {
      "text/html": [
       "<div>\n",
       "<style scoped>\n",
       "    .dataframe tbody tr th:only-of-type {\n",
       "        vertical-align: middle;\n",
       "    }\n",
       "\n",
       "    .dataframe tbody tr th {\n",
       "        vertical-align: top;\n",
       "    }\n",
       "\n",
       "    .dataframe thead th {\n",
       "        text-align: right;\n",
       "    }\n",
       "</style>\n",
       "<table border=\"1\" class=\"dataframe\">\n",
       "  <thead>\n",
       "    <tr style=\"text-align: right;\">\n",
       "      <th></th>\n",
       "      <th>_id</th>\n",
       "      <th>OCCUPANCY_DATE</th>\n",
       "      <th>ORGANIZATION_NAME</th>\n",
       "      <th>SHELTER_NAME</th>\n",
       "      <th>SHELTER_ADDRESS</th>\n",
       "      <th>SHELTER_CITY</th>\n",
       "      <th>SHELTER_PROVINCE</th>\n",
       "      <th>SHELTER_POSTAL_CODE</th>\n",
       "      <th>FACILITY_NAME</th>\n",
       "      <th>PROGRAM_NAME</th>\n",
       "      <th>SECTOR</th>\n",
       "      <th>OCCUPANCY</th>\n",
       "      <th>CAPACITY</th>\n",
       "    </tr>\n",
       "  </thead>\n",
       "  <tbody>\n",
       "    <tr>\n",
       "      <th>0</th>\n",
       "      <td>1</td>\n",
       "      <td>2017-01-01T00:00:00</td>\n",
       "      <td>COSTI Immigrant Services</td>\n",
       "      <td>COSTI Reception Centre</td>\n",
       "      <td>100 Lippincott Street</td>\n",
       "      <td>Toronto</td>\n",
       "      <td>ON</td>\n",
       "      <td>M5S 2P1</td>\n",
       "      <td>COSTI Reception Centre</td>\n",
       "      <td>COSTI Reception Ctr CITY Program</td>\n",
       "      <td>Co-ed</td>\n",
       "      <td>16</td>\n",
       "      <td>16.0</td>\n",
       "    </tr>\n",
       "    <tr>\n",
       "      <th>1</th>\n",
       "      <td>2</td>\n",
       "      <td>2017-01-01T00:00:00</td>\n",
       "      <td>Christie Ossington Neighbourhood Centre</td>\n",
       "      <td>Christie Ossington Men's Hostel</td>\n",
       "      <td>973 Lansdowne Avenue</td>\n",
       "      <td>Toronto</td>\n",
       "      <td>ON</td>\n",
       "      <td>M6H 3Z5</td>\n",
       "      <td>Christie Ossington Men's Hostel</td>\n",
       "      <td>Christie Ossington Extreme Weather Program</td>\n",
       "      <td>Men</td>\n",
       "      <td>13</td>\n",
       "      <td>17.0</td>\n",
       "    </tr>\n",
       "    <tr>\n",
       "      <th>2</th>\n",
       "      <td>3</td>\n",
       "      <td>2017-01-01T00:00:00</td>\n",
       "      <td>Christie Ossington Neighbourhood Centre</td>\n",
       "      <td>Christie Ossington Men's Hostel</td>\n",
       "      <td>973 Lansdowne Avenue</td>\n",
       "      <td>Toronto</td>\n",
       "      <td>ON</td>\n",
       "      <td>M6H 3Z5</td>\n",
       "      <td>Christie Ossington Men's Hostel</td>\n",
       "      <td>Christie Ossington Men's Hostel</td>\n",
       "      <td>Men</td>\n",
       "      <td>63</td>\n",
       "      <td>63.0</td>\n",
       "    </tr>\n",
       "    <tr>\n",
       "      <th>3</th>\n",
       "      <td>4</td>\n",
       "      <td>2017-01-01T00:00:00</td>\n",
       "      <td>Christie Refugee Welcome Centre, Inc.</td>\n",
       "      <td>Christie Refugee Welcome Centre</td>\n",
       "      <td>43 Christie Street</td>\n",
       "      <td>Toronto</td>\n",
       "      <td>ON</td>\n",
       "      <td>M6G 3B1</td>\n",
       "      <td>Christie Refugee Welcome Centre</td>\n",
       "      <td>Christie Refugee Welcome Ctr - Settlement and ...</td>\n",
       "      <td>Families</td>\n",
       "      <td>66</td>\n",
       "      <td>70.0</td>\n",
       "    </tr>\n",
       "    <tr>\n",
       "      <th>4</th>\n",
       "      <td>5</td>\n",
       "      <td>2017-01-01T00:00:00</td>\n",
       "      <td>City of Toronto</td>\n",
       "      <td>Birchmount Residence</td>\n",
       "      <td>1673 Kingston Road</td>\n",
       "      <td>Toronto</td>\n",
       "      <td>ON</td>\n",
       "      <td>NaN</td>\n",
       "      <td>Birchmount Res 1673 Kingston Rd</td>\n",
       "      <td>Birchmount Residence</td>\n",
       "      <td>Men</td>\n",
       "      <td>58</td>\n",
       "      <td>60.0</td>\n",
       "    </tr>\n",
       "    <tr>\n",
       "      <th>...</th>\n",
       "      <td>...</td>\n",
       "      <td>...</td>\n",
       "      <td>...</td>\n",
       "      <td>...</td>\n",
       "      <td>...</td>\n",
       "      <td>...</td>\n",
       "      <td>...</td>\n",
       "      <td>...</td>\n",
       "      <td>...</td>\n",
       "      <td>...</td>\n",
       "      <td>...</td>\n",
       "      <td>...</td>\n",
       "      <td>...</td>\n",
       "    </tr>\n",
       "    <tr>\n",
       "      <th>39441</th>\n",
       "      <td>39442</td>\n",
       "      <td>2019-12-31T00:00:00</td>\n",
       "      <td>YWCA Toronto</td>\n",
       "      <td>YWCA-348 Davenport</td>\n",
       "      <td>348 Davenport Rd.</td>\n",
       "      <td>Toronto</td>\n",
       "      <td>ON</td>\n",
       "      <td>M5R 1K6</td>\n",
       "      <td>YWCA - 348 Davenport Road Youth</td>\n",
       "      <td>YWCA Davenport - Youth</td>\n",
       "      <td>Youth</td>\n",
       "      <td>15</td>\n",
       "      <td>15.0</td>\n",
       "    </tr>\n",
       "    <tr>\n",
       "      <th>39442</th>\n",
       "      <td>39443</td>\n",
       "      <td>2019-12-31T00:00:00</td>\n",
       "      <td>Youth Without Shelter</td>\n",
       "      <td>Youth Without Shelter</td>\n",
       "      <td>6 Warrendale Court</td>\n",
       "      <td>Etobicoke</td>\n",
       "      <td>ON</td>\n",
       "      <td>M9V 1P9</td>\n",
       "      <td>Youth w/o Shelter Emerg Shelter</td>\n",
       "      <td>Youth without Shelter Emergency Shelter Program</td>\n",
       "      <td>Youth</td>\n",
       "      <td>33</td>\n",
       "      <td>33.0</td>\n",
       "    </tr>\n",
       "    <tr>\n",
       "      <th>39443</th>\n",
       "      <td>39444</td>\n",
       "      <td>2019-12-31T00:00:00</td>\n",
       "      <td>Youth Without Shelter</td>\n",
       "      <td>Youth Without Shelter</td>\n",
       "      <td>6 Warrendale Court</td>\n",
       "      <td>Etobicoke</td>\n",
       "      <td>ON</td>\n",
       "      <td>M9V 1P9</td>\n",
       "      <td>Youth w/o Shltr Transitional Res</td>\n",
       "      <td>Youth without Shelter Stay In School Program</td>\n",
       "      <td>Youth</td>\n",
       "      <td>20</td>\n",
       "      <td>20.0</td>\n",
       "    </tr>\n",
       "    <tr>\n",
       "      <th>39444</th>\n",
       "      <td>39445</td>\n",
       "      <td>2019-12-31T00:00:00</td>\n",
       "      <td>YouthLink</td>\n",
       "      <td>YouthLink Shelter</td>\n",
       "      <td>747 Warden Ave</td>\n",
       "      <td>Toronto</td>\n",
       "      <td>ON</td>\n",
       "      <td>M1L 4A1</td>\n",
       "      <td>YouthLink - 747 Warden Ave</td>\n",
       "      <td>YouthLink Emergency Program</td>\n",
       "      <td>Co-ed</td>\n",
       "      <td>9</td>\n",
       "      <td>10.0</td>\n",
       "    </tr>\n",
       "    <tr>\n",
       "      <th>39445</th>\n",
       "      <td>39446</td>\n",
       "      <td>2019-12-31T00:00:00</td>\n",
       "      <td>YouthLink</td>\n",
       "      <td>YouthLink Shelter</td>\n",
       "      <td>747 Warden Ave</td>\n",
       "      <td>Toronto</td>\n",
       "      <td>ON</td>\n",
       "      <td>M1L 4A1</td>\n",
       "      <td>YouthLink - 747 Warden Ave</td>\n",
       "      <td>YouthLink Transitional Program</td>\n",
       "      <td>Co-ed</td>\n",
       "      <td>41</td>\n",
       "      <td>41.0</td>\n",
       "    </tr>\n",
       "  </tbody>\n",
       "</table>\n",
       "<p>115916 rows × 13 columns</p>\n",
       "</div>"
      ],
      "text/plain": [
       "         _id       OCCUPANCY_DATE                        ORGANIZATION_NAME  \\\n",
       "0          1  2017-01-01T00:00:00                 COSTI Immigrant Services   \n",
       "1          2  2017-01-01T00:00:00  Christie Ossington Neighbourhood Centre   \n",
       "2          3  2017-01-01T00:00:00  Christie Ossington Neighbourhood Centre   \n",
       "3          4  2017-01-01T00:00:00    Christie Refugee Welcome Centre, Inc.   \n",
       "4          5  2017-01-01T00:00:00                          City of Toronto   \n",
       "...      ...                  ...                                      ...   \n",
       "39441  39442  2019-12-31T00:00:00                             YWCA Toronto   \n",
       "39442  39443  2019-12-31T00:00:00                    Youth Without Shelter   \n",
       "39443  39444  2019-12-31T00:00:00                    Youth Without Shelter   \n",
       "39444  39445  2019-12-31T00:00:00                                YouthLink   \n",
       "39445  39446  2019-12-31T00:00:00                                YouthLink   \n",
       "\n",
       "                          SHELTER_NAME        SHELTER_ADDRESS SHELTER_CITY  \\\n",
       "0               COSTI Reception Centre  100 Lippincott Street      Toronto   \n",
       "1      Christie Ossington Men's Hostel   973 Lansdowne Avenue      Toronto   \n",
       "2      Christie Ossington Men's Hostel   973 Lansdowne Avenue      Toronto   \n",
       "3      Christie Refugee Welcome Centre     43 Christie Street      Toronto   \n",
       "4                 Birchmount Residence     1673 Kingston Road      Toronto   \n",
       "...                                ...                    ...          ...   \n",
       "39441               YWCA-348 Davenport      348 Davenport Rd.      Toronto   \n",
       "39442            Youth Without Shelter     6 Warrendale Court    Etobicoke   \n",
       "39443            Youth Without Shelter     6 Warrendale Court    Etobicoke   \n",
       "39444                YouthLink Shelter         747 Warden Ave      Toronto   \n",
       "39445                YouthLink Shelter         747 Warden Ave      Toronto   \n",
       "\n",
       "      SHELTER_PROVINCE SHELTER_POSTAL_CODE                     FACILITY_NAME  \\\n",
       "0                   ON             M5S 2P1            COSTI Reception Centre   \n",
       "1                   ON             M6H 3Z5   Christie Ossington Men's Hostel   \n",
       "2                   ON             M6H 3Z5   Christie Ossington Men's Hostel   \n",
       "3                   ON             M6G 3B1   Christie Refugee Welcome Centre   \n",
       "4                   ON                 NaN   Birchmount Res 1673 Kingston Rd   \n",
       "...                ...                 ...                               ...   \n",
       "39441               ON             M5R 1K6   YWCA - 348 Davenport Road Youth   \n",
       "39442               ON             M9V 1P9   Youth w/o Shelter Emerg Shelter   \n",
       "39443               ON             M9V 1P9  Youth w/o Shltr Transitional Res   \n",
       "39444               ON             M1L 4A1        YouthLink - 747 Warden Ave   \n",
       "39445               ON             M1L 4A1        YouthLink - 747 Warden Ave   \n",
       "\n",
       "                                            PROGRAM_NAME    SECTOR  OCCUPANCY  \\\n",
       "0                       COSTI Reception Ctr CITY Program     Co-ed         16   \n",
       "1             Christie Ossington Extreme Weather Program       Men         13   \n",
       "2                        Christie Ossington Men's Hostel       Men         63   \n",
       "3      Christie Refugee Welcome Ctr - Settlement and ...  Families         66   \n",
       "4                                   Birchmount Residence       Men         58   \n",
       "...                                                  ...       ...        ...   \n",
       "39441                             YWCA Davenport - Youth     Youth         15   \n",
       "39442    Youth without Shelter Emergency Shelter Program     Youth         33   \n",
       "39443       Youth without Shelter Stay In School Program     Youth         20   \n",
       "39444                        YouthLink Emergency Program     Co-ed          9   \n",
       "39445                     YouthLink Transitional Program     Co-ed         41   \n",
       "\n",
       "       CAPACITY  \n",
       "0          16.0  \n",
       "1          17.0  \n",
       "2          63.0  \n",
       "3          70.0  \n",
       "4          60.0  \n",
       "...         ...  \n",
       "39441      15.0  \n",
       "39442      33.0  \n",
       "39443      20.0  \n",
       "39444      10.0  \n",
       "39445      41.0  \n",
       "\n",
       "[115916 rows x 13 columns]"
      ]
     },
     "execution_count": 3,
     "metadata": {},
     "output_type": "execute_result"
    }
   ],
   "source": [
    "df=pd.concat([df17,df18,df19])\n",
    "df"
   ]
  },
  {
   "cell_type": "code",
   "execution_count": 4,
   "metadata": {
    "colab": {
     "base_uri": "https://localhost:8080/",
     "height": 247
    },
    "colab_type": "code",
    "id": "cau2n2XdGyNI",
    "outputId": "001f4a1a-ed2a-4c50-f32a-6b401c697944"
   },
   "outputs": [
    {
     "data": {
      "text/plain": [
       "_id                       0\n",
       "OCCUPANCY_DATE            0\n",
       "ORGANIZATION_NAME         0\n",
       "SHELTER_NAME              0\n",
       "SHELTER_ADDRESS           0\n",
       "SHELTER_CITY              0\n",
       "SHELTER_PROVINCE          0\n",
       "SHELTER_POSTAL_CODE    5494\n",
       "FACILITY_NAME             0\n",
       "PROGRAM_NAME              0\n",
       "SECTOR                    0\n",
       "OCCUPANCY                 0\n",
       "CAPACITY                343\n",
       "dtype: int64"
      ]
     },
     "execution_count": 4,
     "metadata": {},
     "output_type": "execute_result"
    }
   ],
   "source": [
    "df.isnull().sum()"
   ]
  },
  {
   "cell_type": "code",
   "execution_count": 5,
   "metadata": {
    "colab": {
     "base_uri": "https://localhost:8080/",
     "height": 32
    },
    "colab_type": "code",
    "id": "aIqINj92GyNN",
    "outputId": "83d25f0c-86ef-4887-e9e4-9d72a5978383"
   },
   "outputs": [
    {
     "data": {
      "text/plain": [
       "array(['Toronto', 'North York', 'Scarborough', 'Etobicoke'], dtype=object)"
      ]
     },
     "execution_count": 5,
     "metadata": {},
     "output_type": "execute_result"
    }
   ],
   "source": [
    "df['SHELTER_CITY'].unique()"
   ]
  },
  {
   "cell_type": "code",
   "execution_count": 6,
   "metadata": {
    "colab": {
     "base_uri": "https://localhost:8080/",
     "height": 32
    },
    "colab_type": "code",
    "id": "KM5PiFoFGyNQ",
    "outputId": "304b11c9-99e2-4984-81ec-51b06eaa2fe9"
   },
   "outputs": [
    {
     "data": {
      "text/plain": [
       "array(['Co-ed', 'Men', 'Families', 'Women', 'Youth'], dtype=object)"
      ]
     },
     "execution_count": 6,
     "metadata": {},
     "output_type": "execute_result"
    }
   ],
   "source": [
    "df['SECTOR'].unique()"
   ]
  },
  {
   "cell_type": "code",
   "execution_count": 7,
   "metadata": {
    "colab": {
     "base_uri": "https://localhost:8080/",
     "height": 32
    },
    "colab_type": "code",
    "id": "yUsnPVRaGyNT",
    "outputId": "efe77165-b611-4fb3-933d-d303f21fb7f0"
   },
   "outputs": [
    {
     "data": {
      "text/plain": [
       "65"
      ]
     },
     "execution_count": 7,
     "metadata": {},
     "output_type": "execute_result"
    }
   ],
   "source": [
    "df['SHELTER_NAME'].unique().size"
   ]
  },
  {
   "cell_type": "code",
   "execution_count": 8,
   "metadata": {
    "colab": {
     "base_uri": "https://localhost:8080/",
     "height": 451
    },
    "colab_type": "code",
    "id": "wKf9e-XMGyNV",
    "outputId": "41db8443-7802-4c8c-b091-729cab68b892"
   },
   "outputs": [
    {
     "data": {
      "text/html": [
       "<div>\n",
       "<style scoped>\n",
       "    .dataframe tbody tr th:only-of-type {\n",
       "        vertical-align: middle;\n",
       "    }\n",
       "\n",
       "    .dataframe tbody tr th {\n",
       "        vertical-align: top;\n",
       "    }\n",
       "\n",
       "    .dataframe thead th {\n",
       "        text-align: right;\n",
       "    }\n",
       "</style>\n",
       "<table border=\"1\" class=\"dataframe\">\n",
       "  <thead>\n",
       "    <tr style=\"text-align: right;\">\n",
       "      <th></th>\n",
       "      <th>_id</th>\n",
       "      <th>OCCUPANCY_DATE</th>\n",
       "      <th>ORGANIZATION_NAME</th>\n",
       "      <th>SHELTER_NAME</th>\n",
       "      <th>SHELTER_ADDRESS</th>\n",
       "      <th>SHELTER_CITY</th>\n",
       "      <th>SHELTER_PROVINCE</th>\n",
       "      <th>SHELTER_POSTAL_CODE</th>\n",
       "      <th>FACILITY_NAME</th>\n",
       "      <th>PROGRAM_NAME</th>\n",
       "      <th>SECTOR</th>\n",
       "      <th>OCCUPANCY</th>\n",
       "      <th>CAPACITY</th>\n",
       "      <th>Month_Year</th>\n",
       "    </tr>\n",
       "  </thead>\n",
       "  <tbody>\n",
       "    <tr>\n",
       "      <th>0</th>\n",
       "      <td>1</td>\n",
       "      <td>2017-01-01T00:00:00</td>\n",
       "      <td>COSTI Immigrant Services</td>\n",
       "      <td>COSTI Reception Centre</td>\n",
       "      <td>100 Lippincott Street</td>\n",
       "      <td>Toronto</td>\n",
       "      <td>ON</td>\n",
       "      <td>M5S 2P1</td>\n",
       "      <td>COSTI Reception Centre</td>\n",
       "      <td>COSTI Reception Ctr CITY Program</td>\n",
       "      <td>Co-ed</td>\n",
       "      <td>16</td>\n",
       "      <td>16.0</td>\n",
       "      <td>2017-01</td>\n",
       "    </tr>\n",
       "    <tr>\n",
       "      <th>1</th>\n",
       "      <td>2</td>\n",
       "      <td>2017-01-01T00:00:00</td>\n",
       "      <td>Christie Ossington Neighbourhood Centre</td>\n",
       "      <td>Christie Ossington Men's Hostel</td>\n",
       "      <td>973 Lansdowne Avenue</td>\n",
       "      <td>Toronto</td>\n",
       "      <td>ON</td>\n",
       "      <td>M6H 3Z5</td>\n",
       "      <td>Christie Ossington Men's Hostel</td>\n",
       "      <td>Christie Ossington Extreme Weather Program</td>\n",
       "      <td>Men</td>\n",
       "      <td>13</td>\n",
       "      <td>17.0</td>\n",
       "      <td>2017-01</td>\n",
       "    </tr>\n",
       "    <tr>\n",
       "      <th>2</th>\n",
       "      <td>3</td>\n",
       "      <td>2017-01-01T00:00:00</td>\n",
       "      <td>Christie Ossington Neighbourhood Centre</td>\n",
       "      <td>Christie Ossington Men's Hostel</td>\n",
       "      <td>973 Lansdowne Avenue</td>\n",
       "      <td>Toronto</td>\n",
       "      <td>ON</td>\n",
       "      <td>M6H 3Z5</td>\n",
       "      <td>Christie Ossington Men's Hostel</td>\n",
       "      <td>Christie Ossington Men's Hostel</td>\n",
       "      <td>Men</td>\n",
       "      <td>63</td>\n",
       "      <td>63.0</td>\n",
       "      <td>2017-01</td>\n",
       "    </tr>\n",
       "    <tr>\n",
       "      <th>3</th>\n",
       "      <td>4</td>\n",
       "      <td>2017-01-01T00:00:00</td>\n",
       "      <td>Christie Refugee Welcome Centre, Inc.</td>\n",
       "      <td>Christie Refugee Welcome Centre</td>\n",
       "      <td>43 Christie Street</td>\n",
       "      <td>Toronto</td>\n",
       "      <td>ON</td>\n",
       "      <td>M6G 3B1</td>\n",
       "      <td>Christie Refugee Welcome Centre</td>\n",
       "      <td>Christie Refugee Welcome Ctr - Settlement and ...</td>\n",
       "      <td>Families</td>\n",
       "      <td>66</td>\n",
       "      <td>70.0</td>\n",
       "      <td>2017-01</td>\n",
       "    </tr>\n",
       "    <tr>\n",
       "      <th>4</th>\n",
       "      <td>5</td>\n",
       "      <td>2017-01-01T00:00:00</td>\n",
       "      <td>City of Toronto</td>\n",
       "      <td>Birchmount Residence</td>\n",
       "      <td>1673 Kingston Road</td>\n",
       "      <td>Toronto</td>\n",
       "      <td>ON</td>\n",
       "      <td>NaN</td>\n",
       "      <td>Birchmount Res 1673 Kingston Rd</td>\n",
       "      <td>Birchmount Residence</td>\n",
       "      <td>Men</td>\n",
       "      <td>58</td>\n",
       "      <td>60.0</td>\n",
       "      <td>2017-01</td>\n",
       "    </tr>\n",
       "  </tbody>\n",
       "</table>\n",
       "</div>"
      ],
      "text/plain": [
       "   _id       OCCUPANCY_DATE                        ORGANIZATION_NAME  \\\n",
       "0    1  2017-01-01T00:00:00                 COSTI Immigrant Services   \n",
       "1    2  2017-01-01T00:00:00  Christie Ossington Neighbourhood Centre   \n",
       "2    3  2017-01-01T00:00:00  Christie Ossington Neighbourhood Centre   \n",
       "3    4  2017-01-01T00:00:00    Christie Refugee Welcome Centre, Inc.   \n",
       "4    5  2017-01-01T00:00:00                          City of Toronto   \n",
       "\n",
       "                      SHELTER_NAME        SHELTER_ADDRESS SHELTER_CITY  \\\n",
       "0           COSTI Reception Centre  100 Lippincott Street      Toronto   \n",
       "1  Christie Ossington Men's Hostel   973 Lansdowne Avenue      Toronto   \n",
       "2  Christie Ossington Men's Hostel   973 Lansdowne Avenue      Toronto   \n",
       "3  Christie Refugee Welcome Centre     43 Christie Street      Toronto   \n",
       "4             Birchmount Residence     1673 Kingston Road      Toronto   \n",
       "\n",
       "  SHELTER_PROVINCE SHELTER_POSTAL_CODE                    FACILITY_NAME  \\\n",
       "0               ON             M5S 2P1           COSTI Reception Centre   \n",
       "1               ON             M6H 3Z5  Christie Ossington Men's Hostel   \n",
       "2               ON             M6H 3Z5  Christie Ossington Men's Hostel   \n",
       "3               ON             M6G 3B1  Christie Refugee Welcome Centre   \n",
       "4               ON                 NaN  Birchmount Res 1673 Kingston Rd   \n",
       "\n",
       "                                        PROGRAM_NAME    SECTOR  OCCUPANCY  \\\n",
       "0                   COSTI Reception Ctr CITY Program     Co-ed         16   \n",
       "1         Christie Ossington Extreme Weather Program       Men         13   \n",
       "2                    Christie Ossington Men's Hostel       Men         63   \n",
       "3  Christie Refugee Welcome Ctr - Settlement and ...  Families         66   \n",
       "4                               Birchmount Residence       Men         58   \n",
       "\n",
       "   CAPACITY Month_Year  \n",
       "0      16.0    2017-01  \n",
       "1      17.0    2017-01  \n",
       "2      63.0    2017-01  \n",
       "3      70.0    2017-01  \n",
       "4      60.0    2017-01  "
      ]
     },
     "execution_count": 8,
     "metadata": {},
     "output_type": "execute_result"
    }
   ],
   "source": [
    "import datetime\n",
    "df['Month_Year']=pd.to_datetime(df['OCCUPANCY_DATE']).dt.to_period('M')\n",
    "df.head()"
   ]
  },
  {
   "cell_type": "code",
   "execution_count": 9,
   "metadata": {
    "colab": {
     "base_uri": "https://localhost:8080/",
     "height": 310
    },
    "colab_type": "code",
    "id": "dYMeoaqMGyNX",
    "outputId": "852d9b06-3f39-4900-e3a5-a0468e46d56b"
   },
   "outputs": [
    {
     "data": {
      "text/plain": [
       "Text(0, 0.5, 'OCCUPANCY')"
      ]
     },
     "execution_count": 9,
     "metadata": {},
     "output_type": "execute_result"
    },
    {
     "data": {
      "image/png": "[encoded data removed]",
      "text/plain": [
       "<Figure size 432x288 with 1 Axes>"
      ]
     },
     "metadata": {
      "needs_background": "light"
     },
     "output_type": "display_data"
    }
   ],
   "source": [
    "df[['OCCUPANCY','Month_Year']].groupby('Month_Year').sum()['OCCUPANCY'].plot()\n",
    "plt.title('OCCUPANCY vs Month from 2017-2019')\n",
    "plt.xlabel('Month')\n",
    "plt.ylabel('OCCUPANCY')"
   ]
  },
  {
   "cell_type": "code",
   "execution_count": 10,
   "metadata": {
    "colab": {
     "base_uri": "https://localhost:8080/",
     "height": 310
    },
    "colab_type": "code",
    "id": "Zg9s3IxYGyNZ",
    "outputId": "850a9e78-3fed-47bd-aa8c-879dcf7639aa"
   },
   "outputs": [
    {
     "data": {
      "text/plain": [
       "Text(0, 0.5, 'CAPACITY')"
      ]
     },
     "execution_count": 10,
     "metadata": {},
     "output_type": "execute_result"
    },
    {
     "data": {
      "image/png": "[encoded data removed]",
      "text/plain": [
       "<Figure size 432x288 with 1 Axes>"
      ]
     },
     "metadata": {
      "needs_background": "light"
     },
     "output_type": "display_data"
    }
   ],
   "source": [
    "df[['CAPACITY','Month_Year']].groupby('Month_Year').sum()['CAPACITY'].plot()\n",
    "plt.title('CAPACITY vs Month from 2017-2019')\n",
    "plt.xlabel('Month')\n",
    "plt.ylabel('CAPACITY')"
   ]
  },
  {
   "cell_type": "code",
   "execution_count": 11,
   "metadata": {
    "colab": {
     "base_uri": "https://localhost:8080/",
     "height": 451
    },
    "colab_type": "code",
    "id": "d2uRoZJFGyNb",
    "outputId": "94e78c88-cfe9-4142-da28-dbd3802ac5d0"
   },
   "outputs": [
    {
     "data": {
      "text/html": [
       "<div>\n",
       "<style scoped>\n",
       "    .dataframe tbody tr th:only-of-type {\n",
       "        vertical-align: middle;\n",
       "    }\n",
       "\n",
       "    .dataframe tbody tr th {\n",
       "        vertical-align: top;\n",
       "    }\n",
       "\n",
       "    .dataframe thead th {\n",
       "        text-align: right;\n",
       "    }\n",
       "</style>\n",
       "<table border=\"1\" class=\"dataframe\">\n",
       "  <thead>\n",
       "    <tr style=\"text-align: right;\">\n",
       "      <th></th>\n",
       "      <th>_id</th>\n",
       "      <th>OCCUPANCY_DATE</th>\n",
       "      <th>ORGANIZATION_NAME</th>\n",
       "      <th>SHELTER_NAME</th>\n",
       "      <th>SHELTER_ADDRESS</th>\n",
       "      <th>SHELTER_CITY</th>\n",
       "      <th>SHELTER_PROVINCE</th>\n",
       "      <th>SHELTER_POSTAL_CODE</th>\n",
       "      <th>FACILITY_NAME</th>\n",
       "      <th>PROGRAM_NAME</th>\n",
       "      <th>SECTOR</th>\n",
       "      <th>OCCUPANCY</th>\n",
       "      <th>CAPACITY</th>\n",
       "      <th>Month_Year</th>\n",
       "      <th>delta</th>\n",
       "    </tr>\n",
       "  </thead>\n",
       "  <tbody>\n",
       "    <tr>\n",
       "      <th>0</th>\n",
       "      <td>1</td>\n",
       "      <td>2017-01-01T00:00:00</td>\n",
       "      <td>COSTI Immigrant Services</td>\n",
       "      <td>COSTI Reception Centre</td>\n",
       "      <td>100 Lippincott Street</td>\n",
       "      <td>Toronto</td>\n",
       "      <td>ON</td>\n",
       "      <td>M5S 2P1</td>\n",
       "      <td>COSTI Reception Centre</td>\n",
       "      <td>COSTI Reception Ctr CITY Program</td>\n",
       "      <td>Co-ed</td>\n",
       "      <td>16</td>\n",
       "      <td>16.0</td>\n",
       "      <td>2017-01</td>\n",
       "      <td>0.0</td>\n",
       "    </tr>\n",
       "    <tr>\n",
       "      <th>1</th>\n",
       "      <td>2</td>\n",
       "      <td>2017-01-01T00:00:00</td>\n",
       "      <td>Christie Ossington Neighbourhood Centre</td>\n",
       "      <td>Christie Ossington Men's Hostel</td>\n",
       "      <td>973 Lansdowne Avenue</td>\n",
       "      <td>Toronto</td>\n",
       "      <td>ON</td>\n",
       "      <td>M6H 3Z5</td>\n",
       "      <td>Christie Ossington Men's Hostel</td>\n",
       "      <td>Christie Ossington Extreme Weather Program</td>\n",
       "      <td>Men</td>\n",
       "      <td>13</td>\n",
       "      <td>17.0</td>\n",
       "      <td>2017-01</td>\n",
       "      <td>-4.0</td>\n",
       "    </tr>\n",
       "    <tr>\n",
       "      <th>2</th>\n",
       "      <td>3</td>\n",
       "      <td>2017-01-01T00:00:00</td>\n",
       "      <td>Christie Ossington Neighbourhood Centre</td>\n",
       "      <td>Christie Ossington Men's Hostel</td>\n",
       "      <td>973 Lansdowne Avenue</td>\n",
       "      <td>Toronto</td>\n",
       "      <td>ON</td>\n",
       "      <td>M6H 3Z5</td>\n",
       "      <td>Christie Ossington Men's Hostel</td>\n",
       "      <td>Christie Ossington Men's Hostel</td>\n",
       "      <td>Men</td>\n",
       "      <td>63</td>\n",
       "      <td>63.0</td>\n",
       "      <td>2017-01</td>\n",
       "      <td>0.0</td>\n",
       "    </tr>\n",
       "    <tr>\n",
       "      <th>3</th>\n",
       "      <td>4</td>\n",
       "      <td>2017-01-01T00:00:00</td>\n",
       "      <td>Christie Refugee Welcome Centre, Inc.</td>\n",
       "      <td>Christie Refugee Welcome Centre</td>\n",
       "      <td>43 Christie Street</td>\n",
       "      <td>Toronto</td>\n",
       "      <td>ON</td>\n",
       "      <td>M6G 3B1</td>\n",
       "      <td>Christie Refugee Welcome Centre</td>\n",
       "      <td>Christie Refugee Welcome Ctr - Settlement and ...</td>\n",
       "      <td>Families</td>\n",
       "      <td>66</td>\n",
       "      <td>70.0</td>\n",
       "      <td>2017-01</td>\n",
       "      <td>-4.0</td>\n",
       "    </tr>\n",
       "    <tr>\n",
       "      <th>4</th>\n",
       "      <td>5</td>\n",
       "      <td>2017-01-01T00:00:00</td>\n",
       "      <td>City of Toronto</td>\n",
       "      <td>Birchmount Residence</td>\n",
       "      <td>1673 Kingston Road</td>\n",
       "      <td>Toronto</td>\n",
       "      <td>ON</td>\n",
       "      <td>NaN</td>\n",
       "      <td>Birchmount Res 1673 Kingston Rd</td>\n",
       "      <td>Birchmount Residence</td>\n",
       "      <td>Men</td>\n",
       "      <td>58</td>\n",
       "      <td>60.0</td>\n",
       "      <td>2017-01</td>\n",
       "      <td>-2.0</td>\n",
       "    </tr>\n",
       "  </tbody>\n",
       "</table>\n",
       "</div>"
      ],
      "text/plain": [
       "   _id       OCCUPANCY_DATE                        ORGANIZATION_NAME  \\\n",
       "0    1  2017-01-01T00:00:00                 COSTI Immigrant Services   \n",
       "1    2  2017-01-01T00:00:00  Christie Ossington Neighbourhood Centre   \n",
       "2    3  2017-01-01T00:00:00  Christie Ossington Neighbourhood Centre   \n",
       "3    4  2017-01-01T00:00:00    Christie Refugee Welcome Centre, Inc.   \n",
       "4    5  2017-01-01T00:00:00                          City of Toronto   \n",
       "\n",
       "                      SHELTER_NAME        SHELTER_ADDRESS SHELTER_CITY  \\\n",
       "0           COSTI Reception Centre  100 Lippincott Street      Toronto   \n",
       "1  Christie Ossington Men's Hostel   973 Lansdowne Avenue      Toronto   \n",
       "2  Christie Ossington Men's Hostel   973 Lansdowne Avenue      Toronto   \n",
       "3  Christie Refugee Welcome Centre     43 Christie Street      Toronto   \n",
       "4             Birchmount Residence     1673 Kingston Road      Toronto   \n",
       "\n",
       "  SHELTER_PROVINCE SHELTER_POSTAL_CODE                    FACILITY_NAME  \\\n",
       "0               ON             M5S 2P1           COSTI Reception Centre   \n",
       "1               ON             M6H 3Z5  Christie Ossington Men's Hostel   \n",
       "2               ON             M6H 3Z5  Christie Ossington Men's Hostel   \n",
       "3               ON             M6G 3B1  Christie Refugee Welcome Centre   \n",
       "4               ON                 NaN  Birchmount Res 1673 Kingston Rd   \n",
       "\n",
       "                                        PROGRAM_NAME    SECTOR  OCCUPANCY  \\\n",
       "0                   COSTI Reception Ctr CITY Program     Co-ed         16   \n",
       "1         Christie Ossington Extreme Weather Program       Men         13   \n",
       "2                    Christie Ossington Men's Hostel       Men         63   \n",
       "3  Christie Refugee Welcome Ctr - Settlement and ...  Families         66   \n",
       "4                               Birchmount Residence       Men         58   \n",
       "\n",
       "   CAPACITY Month_Year  delta  \n",
       "0      16.0    2017-01    0.0  \n",
       "1      17.0    2017-01   -4.0  \n",
       "2      63.0    2017-01    0.0  \n",
       "3      70.0    2017-01   -4.0  \n",
       "4      60.0    2017-01   -2.0  "
      ]
     },
     "execution_count": 11,
     "metadata": {},
     "output_type": "execute_result"
    }
   ],
   "source": [
    "df['delta']=df['OCCUPANCY']-df['CAPACITY']\n",
    "df.head()"
   ]
  },
  {
   "cell_type": "code",
   "execution_count": 12,
   "metadata": {
    "colab": {
     "base_uri": "https://localhost:8080/",
     "height": 435
    },
    "colab_type": "code",
    "id": "LekOLG7QGyNe",
    "outputId": "d597800e-5dd1-4e0c-fce3-52ca24c6f33e"
   },
   "outputs": [
    {
     "data": {
      "text/html": [
       "<div>\n",
       "<style scoped>\n",
       "    .dataframe tbody tr th:only-of-type {\n",
       "        vertical-align: middle;\n",
       "    }\n",
       "\n",
       "    .dataframe tbody tr th {\n",
       "        vertical-align: top;\n",
       "    }\n",
       "\n",
       "    .dataframe thead th {\n",
       "        text-align: right;\n",
       "    }\n",
       "</style>\n",
       "<table border=\"1\" class=\"dataframe\">\n",
       "  <thead>\n",
       "    <tr style=\"text-align: right;\">\n",
       "      <th></th>\n",
       "      <th>_id</th>\n",
       "      <th>OCCUPANCY_DATE</th>\n",
       "      <th>ORGANIZATION_NAME</th>\n",
       "      <th>SHELTER_NAME</th>\n",
       "      <th>SHELTER_ADDRESS</th>\n",
       "      <th>SHELTER_CITY</th>\n",
       "      <th>SHELTER_PROVINCE</th>\n",
       "      <th>SHELTER_POSTAL_CODE</th>\n",
       "      <th>FACILITY_NAME</th>\n",
       "      <th>PROGRAM_NAME</th>\n",
       "      <th>SECTOR</th>\n",
       "      <th>OCCUPANCY</th>\n",
       "      <th>CAPACITY</th>\n",
       "      <th>Month_Year</th>\n",
       "      <th>delta</th>\n",
       "    </tr>\n",
       "  </thead>\n",
       "  <tbody>\n",
       "    <tr>\n",
       "      <th>5</th>\n",
       "      <td>6</td>\n",
       "      <td>2017-01-01T00:00:00</td>\n",
       "      <td>City of Toronto</td>\n",
       "      <td>Birkdale Residence</td>\n",
       "      <td>1229 Ellesmere Road</td>\n",
       "      <td>Toronto</td>\n",
       "      <td>ON</td>\n",
       "      <td>M1P 4V8</td>\n",
       "      <td>Birkdale Residence</td>\n",
       "      <td>Birkdale Residence - Bedded Program</td>\n",
       "      <td>Families</td>\n",
       "      <td>168</td>\n",
       "      <td>160.0</td>\n",
       "      <td>2017-01</td>\n",
       "      <td>8.0</td>\n",
       "    </tr>\n",
       "    <tr>\n",
       "      <th>8</th>\n",
       "      <td>9</td>\n",
       "      <td>2017-01-01T00:00:00</td>\n",
       "      <td>City of Toronto</td>\n",
       "      <td>Family Residence</td>\n",
       "      <td>4222 Kingston Road</td>\n",
       "      <td>Toronto</td>\n",
       "      <td>ON</td>\n",
       "      <td>M1E 2M6</td>\n",
       "      <td>Family Residence - AL site</td>\n",
       "      <td>Family Residence - AL Site (Internal Referral ...</td>\n",
       "      <td>Families</td>\n",
       "      <td>8</td>\n",
       "      <td>0.0</td>\n",
       "      <td>2017-01</td>\n",
       "      <td>8.0</td>\n",
       "    </tr>\n",
       "    <tr>\n",
       "      <th>14</th>\n",
       "      <td>15</td>\n",
       "      <td>2017-01-01T00:00:00</td>\n",
       "      <td>City of Toronto</td>\n",
       "      <td>Family Residence</td>\n",
       "      <td>4222 Kingston Road</td>\n",
       "      <td>Toronto</td>\n",
       "      <td>ON</td>\n",
       "      <td>M1E 2M6</td>\n",
       "      <td>Family Residence - Main Building</td>\n",
       "      <td>Family Residence - Main</td>\n",
       "      <td>Families</td>\n",
       "      <td>148</td>\n",
       "      <td>110.0</td>\n",
       "      <td>2017-01</td>\n",
       "      <td>38.0</td>\n",
       "    </tr>\n",
       "    <tr>\n",
       "      <th>16</th>\n",
       "      <td>17</td>\n",
       "      <td>2017-01-01T00:00:00</td>\n",
       "      <td>City of Toronto</td>\n",
       "      <td>Family Residence</td>\n",
       "      <td>4222 Kingston Road</td>\n",
       "      <td>Toronto</td>\n",
       "      <td>ON</td>\n",
       "      <td>M1E 2M6</td>\n",
       "      <td>Family Residence - TO</td>\n",
       "      <td>Family Residence - TO site (Internal Referral ...</td>\n",
       "      <td>Families</td>\n",
       "      <td>60</td>\n",
       "      <td>20.0</td>\n",
       "      <td>2017-01</td>\n",
       "      <td>40.0</td>\n",
       "    </tr>\n",
       "    <tr>\n",
       "      <th>20</th>\n",
       "      <td>21</td>\n",
       "      <td>2017-01-01T00:00:00</td>\n",
       "      <td>City of Toronto</td>\n",
       "      <td>Robertson House</td>\n",
       "      <td>291 Sherbourne Street</td>\n",
       "      <td>Toronto</td>\n",
       "      <td>ON</td>\n",
       "      <td>M5A 2R9</td>\n",
       "      <td>Robertson House</td>\n",
       "      <td>Robertson House - MAIN Program</td>\n",
       "      <td>Families</td>\n",
       "      <td>111</td>\n",
       "      <td>90.0</td>\n",
       "      <td>2017-01</td>\n",
       "      <td>21.0</td>\n",
       "    </tr>\n",
       "  </tbody>\n",
       "</table>\n",
       "</div>"
      ],
      "text/plain": [
       "    _id       OCCUPANCY_DATE ORGANIZATION_NAME        SHELTER_NAME  \\\n",
       "5     6  2017-01-01T00:00:00   City of Toronto  Birkdale Residence   \n",
       "8     9  2017-01-01T00:00:00   City of Toronto    Family Residence   \n",
       "14   15  2017-01-01T00:00:00   City of Toronto    Family Residence   \n",
       "16   17  2017-01-01T00:00:00   City of Toronto    Family Residence   \n",
       "20   21  2017-01-01T00:00:00   City of Toronto     Robertson House   \n",
       "\n",
       "          SHELTER_ADDRESS SHELTER_CITY SHELTER_PROVINCE SHELTER_POSTAL_CODE  \\\n",
       "5     1229 Ellesmere Road      Toronto               ON             M1P 4V8   \n",
       "8      4222 Kingston Road      Toronto               ON             M1E 2M6   \n",
       "14     4222 Kingston Road      Toronto               ON             M1E 2M6   \n",
       "16     4222 Kingston Road      Toronto               ON             M1E 2M6   \n",
       "20  291 Sherbourne Street      Toronto               ON             M5A 2R9   \n",
       "\n",
       "                       FACILITY_NAME  \\\n",
       "5                 Birkdale Residence   \n",
       "8         Family Residence - AL site   \n",
       "14  Family Residence - Main Building   \n",
       "16             Family Residence - TO   \n",
       "20                   Robertson House   \n",
       "\n",
       "                                         PROGRAM_NAME    SECTOR  OCCUPANCY  \\\n",
       "5                 Birkdale Residence - Bedded Program  Families        168   \n",
       "8   Family Residence - AL Site (Internal Referral ...  Families          8   \n",
       "14                            Family Residence - Main  Families        148   \n",
       "16  Family Residence - TO site (Internal Referral ...  Families         60   \n",
       "20                     Robertson House - MAIN Program  Families        111   \n",
       "\n",
       "    CAPACITY Month_Year  delta  \n",
       "5      160.0    2017-01    8.0  \n",
       "8        0.0    2017-01    8.0  \n",
       "14     110.0    2017-01   38.0  \n",
       "16      20.0    2017-01   40.0  \n",
       "20      90.0    2017-01   21.0  "
      ]
     },
     "execution_count": 12,
     "metadata": {},
     "output_type": "execute_result"
    }
   ],
   "source": [
    "#creat a df for enteries which have overcapacity\n",
    "df_over = df[df['delta'] > 0]\n",
    "df_over.head()"
   ]
  },
  {
   "cell_type": "code",
   "execution_count": 13,
   "metadata": {
    "colab": {
     "base_uri": "https://localhost:8080/",
     "height": 310
    },
    "colab_type": "code",
    "id": "QptIJGSGGyNf",
    "outputId": "ab432f3e-c578-49a7-cbc1-cb39c90653ab"
   },
   "outputs": [
    {
     "data": {
      "text/plain": [
       "Text(0, 0.5, 'OVERCAPACITY')"
      ]
     },
     "execution_count": 13,
     "metadata": {},
     "output_type": "execute_result"
    },
    {
     "data": {
      "image/png": "[encoded data removed]",
      "text/plain": [
       "<Figure size 432x288 with 1 Axes>"
      ]
     },
     "metadata": {
      "needs_background": "light"
     },
     "output_type": "display_data"
    }
   ],
   "source": [
    "df_over[['delta','Month_Year']].groupby('Month_Year').sum()['delta'].plot()\n",
    "plt.title('OVERCAPACITY vs Month from 2017-2019')\n",
    "plt.xlabel('Month')\n",
    "plt.ylabel('OVERCAPACITY')"
   ]
  },
  {
   "cell_type": "code",
   "execution_count": null,
   "metadata": {
    "colab": {},
    "colab_type": "code",
    "id": "0cxO2Jf_GyNh"
   },
   "outputs": [],
   "source": []
  },
  {
   "cell_type": "code",
   "execution_count": null,
   "metadata": {
    "colab": {},
    "colab_type": "code",
    "id": "vrjueh8BGyNi"
   },
   "outputs": [],
   "source": []
  }
 ],
 "metadata": {
  "colab": {
   "include_colab_link": true,
   "name": "MN HomelessShelter.ipynb",
   "provenance": []
  },
  "kernelspec": {
   "display_name": "Python 3",
   "language": "python",
   "name": "python3"
  },
  "language_info": {
   "codemirror_mode": {
    "name": "ipython",
    "version": 3
   },
   "file_extension": ".py",
   "mimetype": "text/x-python",
   "name": "python",
   "nbconvert_exporter": "python",
   "pygments_lexer": "ipython3",
   "version": "3.7.6"
  }
 },
 "nbformat": 4,
 "nbformat_minor": 1
}
