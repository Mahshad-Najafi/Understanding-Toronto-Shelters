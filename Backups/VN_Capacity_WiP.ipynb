{
  "nbformat": 4,
  "nbformat_minor": 0,
  "metadata": {
    "colab": {
      "name": "VN_Capacity_WiP.ipynb",
      "provenance": [],
      "collapsed_sections": [
        "vDMLBj_X4eTs"
      ],
      "authorship_tag": "ABX9TyMOchDOiCH+8G/YqW2XIjfQ",
      "include_colab_link": true
    },
    "kernelspec": {
      "name": "python3",
      "display_name": "Python 3"
    }
  },
  "cells": [
    {
      "cell_type": "markdown",
      "metadata": {
        "id": "view-in-github",
        "colab_type": "text"
      },
      "source": [
        "<a href=\"https://colab.research.google.com/github/VernonNaidoo-Toronto/Understanding-Toronto-Shelters/blob/master/VN_Capacity_WiP.ipynb\" target=\"_parent\"><img src=\"https://colab.research.google.com/assets/colab-badge.svg\" alt=\"Open In Colab\"/></a>"
      ]
    },
    {
      "cell_type": "markdown",
      "metadata": {
        "id": "KrqiUmsTiojK",
        "colab_type": "text"
      },
      "source": [
        "# Shelter Capacity Investigation\n",
        "- Vernon Naidoo\n",
        "- 2020-07-17"
      ]
    },
    {
      "cell_type": "markdown",
      "metadata": {
        "id": "yTL1zgD8iv1L",
        "colab_type": "text"
      },
      "source": [
        "## Setup"
      ]
    },
    {
      "cell_type": "code",
      "metadata": {
        "id": "BoIQ_bTpi8cB",
        "colab_type": "code",
        "colab": {}
      },
      "source": [
        "import pandas as pd\n",
        "import numpy as np\n",
        "import matplotlib.pyplot as plt\n",
        "import seaborn as sns\n",
        "\n",
        "np.random(42)\n",
        "\n",
        "%config InlineBackend.figure_format = 'retina'"
      ],
      "execution_count": null,
      "outputs": []
    },
    {
      "cell_type": "markdown",
      "metadata": {
        "id": "ysUAQMsjizQR",
        "colab_type": "text"
      },
      "source": [
        "## Load and Concatenate Data Files"
      ]
    },
    {
      "cell_type": "code",
      "metadata": {
        "id": "Bn9boYjzi9fb",
        "colab_type": "code",
        "colab": {
          "base_uri": "https://localhost:8080/",
          "height": 65
        },
        "outputId": "f6666dfa-2489-434c-8ee9-bb83c46d46e6"
      },
      "source": [
        "# Load files from GitHub; add labels\n",
        "path = 'https://raw.githubusercontent.com/VernonNaidoo-Toronto/Understanding-Toronto-Shelters/master/Shelter%20Data/'\n",
        "dso2017=pd.read_csv(path + 'daily-shelter-occupancy-2017-csv.csv'); dso2017['source_file']=2017\n",
        "dso2018=pd.read_csv(path + 'daily-shelter-occupancy-2018-csv.csv'); dso2018['source_file']=2018\n",
        "dso2019=pd.read_csv(path + 'daily-shelter-occupancy-2019-csv.csv'); dso2019['source_file']=2019\n",
        "\n",
        "# Get summary of records loaded\n",
        "for year, df in [[2017,dso2017], [2018,dso2018], [2019,dso2019]]:\n",
        "  print(f'Loaded {len(df)} records from the {year} file.')"
      ],
      "execution_count": null,
      "outputs": [
        {
          "output_type": "stream",
          "text": [
            "Loaded 38700 records from the 2017 file.\n",
            "Loaded 37770 records from the 2018 file.\n",
            "Loaded 39446 records from the 2019 file.\n"
          ],
          "name": "stdout"
        }
      ]
    },
    {
      "cell_type": "code",
      "metadata": {
        "id": "OmjVe3mFxpJh",
        "colab_type": "code",
        "colab": {
          "base_uri": "https://localhost:8080/",
          "height": 832
        },
        "outputId": "c6df95b1-19e2-47bc-d901-97d15433a5af"
      },
      "source": [
        "# Concatenate DataFrames\n",
        "daily_shelter_occupancy = pd.concat([dso2017, dso2018, dso2019], ignore_index=True) \n",
        "\n",
        "# Get list of column names; change to Python standard lowercase:\n",
        "cols = [column_name.lower() for column_name in daily_shelter_occupancy.columns] \n",
        "daily_shelter_occupancy.columns = cols\n",
        "\n",
        "# Move source_file column to front of DataFrame\n",
        "cols = cols[-1:] + cols[0:-1]\n",
        "daily_shelter_occupancy = daily_shelter_occupancy[cols]\n",
        "\n",
        "# Show head and tail\n",
        "display(daily_shelter_occupancy.head())\n",
        "display(daily_shelter_occupancy.tail())"
      ],
      "execution_count": null,
      "outputs": [
        {
          "output_type": "display_data",
          "data": {
            "text/html": [
              "<div>\n",
              "<style scoped>\n",
              "    .dataframe tbody tr th:only-of-type {\n",
              "        vertical-align: middle;\n",
              "    }\n",
              "\n",
              "    .dataframe tbody tr th {\n",
              "        vertical-align: top;\n",
              "    }\n",
              "\n",
              "    .dataframe thead th {\n",
              "        text-align: right;\n",
              "    }\n",
              "</style>\n",
              "<table border=\"1\" class=\"dataframe\">\n",
              "  <thead>\n",
              "    <tr style=\"text-align: right;\">\n",
              "      <th></th>\n",
              "      <th>source_file</th>\n",
              "      <th>_id</th>\n",
              "      <th>occupancy_date</th>\n",
              "      <th>organization_name</th>\n",
              "      <th>shelter_name</th>\n",
              "      <th>shelter_address</th>\n",
              "      <th>shelter_city</th>\n",
              "      <th>shelter_province</th>\n",
              "      <th>shelter_postal_code</th>\n",
              "      <th>facility_name</th>\n",
              "      <th>program_name</th>\n",
              "      <th>sector</th>\n",
              "      <th>occupancy</th>\n",
              "      <th>capacity</th>\n",
              "    </tr>\n",
              "  </thead>\n",
              "  <tbody>\n",
              "    <tr>\n",
              "      <th>0</th>\n",
              "      <td>2017</td>\n",
              "      <td>1</td>\n",
              "      <td>2017-01-01T00:00:00</td>\n",
              "      <td>COSTI Immigrant Services</td>\n",
              "      <td>COSTI Reception Centre</td>\n",
              "      <td>100 Lippincott Street</td>\n",
              "      <td>Toronto</td>\n",
              "      <td>ON</td>\n",
              "      <td>M5S 2P1</td>\n",
              "      <td>COSTI Reception Centre</td>\n",
              "      <td>COSTI Reception Ctr CITY Program</td>\n",
              "      <td>Co-ed</td>\n",
              "      <td>16</td>\n",
              "      <td>16.0</td>\n",
              "    </tr>\n",
              "    <tr>\n",
              "      <th>1</th>\n",
              "      <td>2017</td>\n",
              "      <td>2</td>\n",
              "      <td>2017-01-01T00:00:00</td>\n",
              "      <td>Christie Ossington Neighbourhood Centre</td>\n",
              "      <td>Christie Ossington Men's Hostel</td>\n",
              "      <td>973 Lansdowne Avenue</td>\n",
              "      <td>Toronto</td>\n",
              "      <td>ON</td>\n",
              "      <td>M6H 3Z5</td>\n",
              "      <td>Christie Ossington Men's Hostel</td>\n",
              "      <td>Christie Ossington Extreme Weather Program</td>\n",
              "      <td>Men</td>\n",
              "      <td>13</td>\n",
              "      <td>17.0</td>\n",
              "    </tr>\n",
              "    <tr>\n",
              "      <th>2</th>\n",
              "      <td>2017</td>\n",
              "      <td>3</td>\n",
              "      <td>2017-01-01T00:00:00</td>\n",
              "      <td>Christie Ossington Neighbourhood Centre</td>\n",
              "      <td>Christie Ossington Men's Hostel</td>\n",
              "      <td>973 Lansdowne Avenue</td>\n",
              "      <td>Toronto</td>\n",
              "      <td>ON</td>\n",
              "      <td>M6H 3Z5</td>\n",
              "      <td>Christie Ossington Men's Hostel</td>\n",
              "      <td>Christie Ossington Men's Hostel</td>\n",
              "      <td>Men</td>\n",
              "      <td>63</td>\n",
              "      <td>63.0</td>\n",
              "    </tr>\n",
              "    <tr>\n",
              "      <th>3</th>\n",
              "      <td>2017</td>\n",
              "      <td>4</td>\n",
              "      <td>2017-01-01T00:00:00</td>\n",
              "      <td>Christie Refugee Welcome Centre, Inc.</td>\n",
              "      <td>Christie Refugee Welcome Centre</td>\n",
              "      <td>43 Christie Street</td>\n",
              "      <td>Toronto</td>\n",
              "      <td>ON</td>\n",
              "      <td>M6G 3B1</td>\n",
              "      <td>Christie Refugee Welcome Centre</td>\n",
              "      <td>Christie Refugee Welcome Ctr - Settlement and ...</td>\n",
              "      <td>Families</td>\n",
              "      <td>66</td>\n",
              "      <td>70.0</td>\n",
              "    </tr>\n",
              "    <tr>\n",
              "      <th>4</th>\n",
              "      <td>2017</td>\n",
              "      <td>5</td>\n",
              "      <td>2017-01-01T00:00:00</td>\n",
              "      <td>City of Toronto</td>\n",
              "      <td>Birchmount Residence</td>\n",
              "      <td>1673 Kingston Road</td>\n",
              "      <td>Toronto</td>\n",
              "      <td>ON</td>\n",
              "      <td>NaN</td>\n",
              "      <td>Birchmount Res 1673 Kingston Rd</td>\n",
              "      <td>Birchmount Residence</td>\n",
              "      <td>Men</td>\n",
              "      <td>58</td>\n",
              "      <td>60.0</td>\n",
              "    </tr>\n",
              "  </tbody>\n",
              "</table>\n",
              "</div>"
            ],
            "text/plain": [
              "   source_file  _id       occupancy_date  ...    sector occupancy capacity\n",
              "0         2017    1  2017-01-01T00:00:00  ...     Co-ed        16     16.0\n",
              "1         2017    2  2017-01-01T00:00:00  ...       Men        13     17.0\n",
              "2         2017    3  2017-01-01T00:00:00  ...       Men        63     63.0\n",
              "3         2017    4  2017-01-01T00:00:00  ...  Families        66     70.0\n",
              "4         2017    5  2017-01-01T00:00:00  ...       Men        58     60.0\n",
              "\n",
              "[5 rows x 14 columns]"
            ]
          },
          "metadata": {
            "tags": []
          }
        },
        {
          "output_type": "display_data",
          "data": {
            "text/html": [
              "<div>\n",
              "<style scoped>\n",
              "    .dataframe tbody tr th:only-of-type {\n",
              "        vertical-align: middle;\n",
              "    }\n",
              "\n",
              "    .dataframe tbody tr th {\n",
              "        vertical-align: top;\n",
              "    }\n",
              "\n",
              "    .dataframe thead th {\n",
              "        text-align: right;\n",
              "    }\n",
              "</style>\n",
              "<table border=\"1\" class=\"dataframe\">\n",
              "  <thead>\n",
              "    <tr style=\"text-align: right;\">\n",
              "      <th></th>\n",
              "      <th>source_file</th>\n",
              "      <th>_id</th>\n",
              "      <th>occupancy_date</th>\n",
              "      <th>organization_name</th>\n",
              "      <th>shelter_name</th>\n",
              "      <th>shelter_address</th>\n",
              "      <th>shelter_city</th>\n",
              "      <th>shelter_province</th>\n",
              "      <th>shelter_postal_code</th>\n",
              "      <th>facility_name</th>\n",
              "      <th>program_name</th>\n",
              "      <th>sector</th>\n",
              "      <th>occupancy</th>\n",
              "      <th>capacity</th>\n",
              "    </tr>\n",
              "  </thead>\n",
              "  <tbody>\n",
              "    <tr>\n",
              "      <th>115911</th>\n",
              "      <td>2019</td>\n",
              "      <td>39442</td>\n",
              "      <td>2019-12-31T00:00:00</td>\n",
              "      <td>YWCA Toronto</td>\n",
              "      <td>YWCA-348 Davenport</td>\n",
              "      <td>348 Davenport Rd.</td>\n",
              "      <td>Toronto</td>\n",
              "      <td>ON</td>\n",
              "      <td>M5R 1K6</td>\n",
              "      <td>YWCA - 348 Davenport Road Youth</td>\n",
              "      <td>YWCA Davenport - Youth</td>\n",
              "      <td>Youth</td>\n",
              "      <td>15</td>\n",
              "      <td>15.0</td>\n",
              "    </tr>\n",
              "    <tr>\n",
              "      <th>115912</th>\n",
              "      <td>2019</td>\n",
              "      <td>39443</td>\n",
              "      <td>2019-12-31T00:00:00</td>\n",
              "      <td>Youth Without Shelter</td>\n",
              "      <td>Youth Without Shelter</td>\n",
              "      <td>6 Warrendale Court</td>\n",
              "      <td>Etobicoke</td>\n",
              "      <td>ON</td>\n",
              "      <td>M9V 1P9</td>\n",
              "      <td>Youth w/o Shelter Emerg Shelter</td>\n",
              "      <td>Youth without Shelter Emergency Shelter Program</td>\n",
              "      <td>Youth</td>\n",
              "      <td>33</td>\n",
              "      <td>33.0</td>\n",
              "    </tr>\n",
              "    <tr>\n",
              "      <th>115913</th>\n",
              "      <td>2019</td>\n",
              "      <td>39444</td>\n",
              "      <td>2019-12-31T00:00:00</td>\n",
              "      <td>Youth Without Shelter</td>\n",
              "      <td>Youth Without Shelter</td>\n",
              "      <td>6 Warrendale Court</td>\n",
              "      <td>Etobicoke</td>\n",
              "      <td>ON</td>\n",
              "      <td>M9V 1P9</td>\n",
              "      <td>Youth w/o Shltr Transitional Res</td>\n",
              "      <td>Youth without Shelter Stay In School Program</td>\n",
              "      <td>Youth</td>\n",
              "      <td>20</td>\n",
              "      <td>20.0</td>\n",
              "    </tr>\n",
              "    <tr>\n",
              "      <th>115914</th>\n",
              "      <td>2019</td>\n",
              "      <td>39445</td>\n",
              "      <td>2019-12-31T00:00:00</td>\n",
              "      <td>YouthLink</td>\n",
              "      <td>YouthLink Shelter</td>\n",
              "      <td>747 Warden Ave</td>\n",
              "      <td>Toronto</td>\n",
              "      <td>ON</td>\n",
              "      <td>M1L 4A1</td>\n",
              "      <td>YouthLink - 747 Warden Ave</td>\n",
              "      <td>YouthLink Emergency Program</td>\n",
              "      <td>Co-ed</td>\n",
              "      <td>9</td>\n",
              "      <td>10.0</td>\n",
              "    </tr>\n",
              "    <tr>\n",
              "      <th>115915</th>\n",
              "      <td>2019</td>\n",
              "      <td>39446</td>\n",
              "      <td>2019-12-31T00:00:00</td>\n",
              "      <td>YouthLink</td>\n",
              "      <td>YouthLink Shelter</td>\n",
              "      <td>747 Warden Ave</td>\n",
              "      <td>Toronto</td>\n",
              "      <td>ON</td>\n",
              "      <td>M1L 4A1</td>\n",
              "      <td>YouthLink - 747 Warden Ave</td>\n",
              "      <td>YouthLink Transitional Program</td>\n",
              "      <td>Co-ed</td>\n",
              "      <td>41</td>\n",
              "      <td>41.0</td>\n",
              "    </tr>\n",
              "  </tbody>\n",
              "</table>\n",
              "</div>"
            ],
            "text/plain": [
              "        source_file    _id       occupancy_date  ... sector occupancy capacity\n",
              "115911         2019  39442  2019-12-31T00:00:00  ...  Youth        15     15.0\n",
              "115912         2019  39443  2019-12-31T00:00:00  ...  Youth        33     33.0\n",
              "115913         2019  39444  2019-12-31T00:00:00  ...  Youth        20     20.0\n",
              "115914         2019  39445  2019-12-31T00:00:00  ...  Co-ed         9     10.0\n",
              "115915         2019  39446  2019-12-31T00:00:00  ...  Co-ed        41     41.0\n",
              "\n",
              "[5 rows x 14 columns]"
            ]
          },
          "metadata": {
            "tags": []
          }
        }
      ]
    },
    {
      "cell_type": "markdown",
      "metadata": {
        "id": "jnDzVw0Di11T",
        "colab_type": "text"
      },
      "source": [
        "## First Look"
      ]
    },
    {
      "cell_type": "markdown",
      "metadata": {
        "id": "Vo0zpwir22ZU",
        "colab_type": "text"
      },
      "source": [
        "#### Check for Nulls"
      ]
    },
    {
      "cell_type": "code",
      "metadata": {
        "id": "_ULl3u4O3L4d",
        "colab_type": "code",
        "colab": {
          "base_uri": "https://localhost:8080/",
          "height": 680
        },
        "outputId": "fcaf3a33-25db-492a-bf08-8519916d5e57"
      },
      "source": [
        "plt.figure(figsize=(16,10))\n",
        "sns.heatmap(daily_shelter_occupancy.isnull(),\n",
        "            yticklabels=False,\n",
        "            cbar=False,\n",
        "            cmap='viridis');"
      ],
      "execution_count": null,
      "outputs": [
        {
          "output_type": "display_data",
          "data": {
            "image/png": "[encoded data removed]",
            "text/plain": [
              "<Figure size 1152x720 with 1 Axes>"
            ]
          },
          "metadata": {
            "tags": [],
            "image/png": {
              "width": 907,
              "height": 664
            },
            "needs_background": "light"
          }
        }
      ]
    },
    {
      "cell_type": "markdown",
      "metadata": {
        "id": "vDMLBj_X4eTs",
        "colab_type": "text"
      },
      "source": [
        "#### Check Data Types"
      ]
    },
    {
      "cell_type": "code",
      "metadata": {
        "id": "DBIsuT3riZoW",
        "colab_type": "code",
        "colab": {
          "base_uri": "https://localhost:8080/",
          "height": 345
        },
        "outputId": "cffc51b9-eee9-40a3-b70e-f3251d3f00a5"
      },
      "source": [
        "daily_shelter_occupancy.info()"
      ],
      "execution_count": null,
      "outputs": [
        {
          "output_type": "stream",
          "text": [
            "<class 'pandas.core.frame.DataFrame'>\n",
            "RangeIndex: 38700 entries, 0 to 38699\n",
            "Data columns (total 13 columns):\n",
            " #   Column               Non-Null Count  Dtype  \n",
            "---  ------               --------------  -----  \n",
            " 0   _id                  38700 non-null  int64  \n",
            " 1   OCCUPANCY_DATE       38700 non-null  object \n",
            " 2   ORGANIZATION_NAME    38700 non-null  object \n",
            " 3   SHELTER_NAME         38700 non-null  object \n",
            " 4   SHELTER_ADDRESS      38700 non-null  object \n",
            " 5   SHELTER_CITY         38700 non-null  object \n",
            " 6   SHELTER_PROVINCE     38700 non-null  object \n",
            " 7   SHELTER_POSTAL_CODE  36126 non-null  object \n",
            " 8   FACILITY_NAME        38700 non-null  object \n",
            " 9   PROGRAM_NAME         38700 non-null  object \n",
            " 10  SECTOR               38700 non-null  object \n",
            " 11  OCCUPANCY            38700 non-null  int64  \n",
            " 12  CAPACITY             38422 non-null  float64\n",
            "dtypes: float64(1), int64(2), object(10)\n",
            "memory usage: 3.8+ MB\n"
          ],
          "name": "stdout"
        }
      ]
    },
    {
      "cell_type": "markdown",
      "metadata": {
        "id": "02BxvZFD2Nfn",
        "colab_type": "text"
      },
      "source": [
        "## Check / correct Data Types"
      ]
    },
    {
      "cell_type": "code",
      "metadata": {
        "id": "HdHHobnD2hDi",
        "colab_type": "code",
        "colab": {}
      },
      "source": [
        "# change date column from object to date!!!!!!"
      ],
      "execution_count": null,
      "outputs": []
    }
  ]
}